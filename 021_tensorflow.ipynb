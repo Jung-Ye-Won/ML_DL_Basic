{
 "cells": [
  {
   "cell_type": "code",
   "execution_count": 1,
   "metadata": {},
   "outputs": [
    {
     "name": "stdout",
     "output_type": "stream",
     "text": [
      "1.15.3\n"
     ]
    }
   ],
   "source": [
    "import tensorflow as tf\n",
    "print(tf.__version__)\n",
    "#1.15.3 방식의 차이, 속도가 빠르고 안정적\n",
    "#2.3 환경을 유리하게 구성 - 프로그램이 쉽기 떄문에 대세"
   ]
  },
  {
   "cell_type": "code",
   "execution_count": 2,
   "metadata": {},
   "outputs": [
    {
     "name": "stdout",
     "output_type": "stream",
     "text": [
      "Tensor(\"Const:0\", shape=(), dtype=string)\n",
      "b'Hello Tensorflow'\n"
     ]
    }
   ],
   "source": [
    "hello = tf.constant(\"Hello Tensorflow\")\n",
    "#상수를 지정한다.\n",
    "sess = tf.Session() #병렬처리를 전제로해서 작성하였기 때문에 세션을 연결해야 한다.\n",
    "#(자료구조는 그래프형식 - 노드에 연결된 값이 전체계산되어야 계산 된다.) -> 그래프의 꼭지만 실행하면 모든그래프가 실행된다.\n",
    "print(hello)\n",
    "#노드와 노드를 연결하는것은 텐서\n",
    "#내용을 호출하는것 - 세션을 연결해야한다.\n",
    "print(sess.run(hello))"
   ]
  },
  {
   "cell_type": "code",
   "execution_count": 3,
   "metadata": {},
   "outputs": [
    {
     "name": "stdout",
     "output_type": "stream",
     "text": [
      "<tf.Variable 'y:0' shape=() dtype=int32_ref>\n"
     ]
    }
   ],
   "source": [
    "x = tf.constant(35, name='x')\n",
    "y = tf.Variable(x+5, name='y') #계산식 노드, x와 연결되어 있다.(계산식안에 존재한다.)\n",
    "print(y)\n",
    "#Graph : constant, variable, placeholder"
   ]
  },
  {
   "cell_type": "code",
   "execution_count": 4,
   "metadata": {},
   "outputs": [
    {
     "name": "stdout",
     "output_type": "stream",
     "text": [
      "40\n"
     ]
    }
   ],
   "source": [
    "init = tf.global_variables_initializer() #variable시 반드시 호출해야한다. 세트로 사용 -> 반드시 run해야한다.\n",
    "with tf.Session() as session:\n",
    "    session.run(init)\n",
    "    print(session.run(y))\n",
    "    #마지막 꼭지를 돌리면 된다.(꼭지를 돌리면 안에 내포된 노드들이 자동으로 계산된다.)"
   ]
  },
  {
   "cell_type": "code",
   "execution_count": 5,
   "metadata": {},
   "outputs": [
    {
     "name": "stdout",
     "output_type": "stream",
     "text": [
      "[5 7 9]\n"
     ]
    }
   ],
   "source": [
    "a = tf.constant([1,2,3], name='a') #이름을 주었다. tensorboar(그래프 구조 시각화하는 놈)에서 구분, 모델저장시 사용된다.\n",
    "#저장했다 로딩할 때는 위치를 구분할 수 없다. name으로 데이터를 참조할 수 있다.\n",
    "b = tf.constant([4,5,6], name='b')\n",
    "add_op = a+b\n",
    "with tf.Session() as session:\n",
    "    print(session.run(add_op))"
   ]
  },
  {
   "cell_type": "code",
   "execution_count": 6,
   "metadata": {},
   "outputs": [],
   "source": [
    "a = tf.placeholder(tf.int16) #주입변수 - 외부에서 변수가 feeding된다.\n",
    "b = tf.placeholder(tf.int16)\n",
    "add = tf.add(a,b) #더하는 계산식이 있는 노드\n",
    "mul = tf.multiply(a,b) #곱하는 계산식이 있는 노드\n",
    "total = tf.multiply(add, mul)"
   ]
  },
  {
   "cell_type": "code",
   "execution_count": 7,
   "metadata": {},
   "outputs": [
    {
     "name": "stdout",
     "output_type": "stream",
     "text": [
      "feed 변수합 : 5\n",
      "feed 변수곱 : 6\n",
      "feed 변수총곱 : 30\n"
     ]
    }
   ],
   "source": [
    "with tf.Session() as sess:\n",
    "    print('feed 변수합 : %i'%sess.run(add, feed_dict = {a:2, b:3}))\n",
    "    print('feed 변수곱 : %i'%sess.run(mul, feed_dict = {a:2, b:3}))\n",
    "    print('feed 변수총곱 : %i'%sess.run(total, feed_dict = {a:2, b:3}))"
   ]
  },
  {
   "cell_type": "code",
   "execution_count": 8,
   "metadata": {},
   "outputs": [],
   "source": [
    "#variable은 가중치를 저장하는데 사용\n",
    "#placeholder는 훈련데이터를 전달하는데 사용된다."
   ]
  },
  {
   "cell_type": "code",
   "execution_count": 9,
   "metadata": {},
   "outputs": [],
   "source": [
    "my_var = tf.Variable(3, name='var1')\n",
    "add = tf.add(5, my_var)\n",
    "num = tf.multiply(8, my_var)\n",
    "my_var = num\n",
    "zeros = tf.zeros([2,2]) #numpy 선형대수 초기화 함수들처럼 tensorflow에도 linelg 함수들이 있다.\n",
    "ones = tf.ones([6])\n",
    "#대부분 가중치는 랜덤으로 초기화 된다.\n",
    "uniform = tf.random_uniform([3,3,3], minval=0.0, maxval=10) #균등분포\n",
    "normal = tf.random_normal([3,3,3], mean=0.0, stddev=2.0) #정규분포\n",
    "trunc = tf.truncated_normal([2,2], mean=5.0, stddev=1.0) #범위를 넘어서면 다시 발생시킨다.(정규분포 표준편차 2배수안)\n",
    "random_var = tf.Variable(tf.truncated_normal([2,2]))\n",
    "#Variable - 반드시 초기화를 해주어야 한다.  -> global_variables_initializer"
   ]
  },
  {
   "cell_type": "code",
   "execution_count": 10,
   "metadata": {
    "scrolled": true
   },
   "outputs": [
    {
     "name": "stdout",
     "output_type": "stream",
     "text": [
      "[[[-2.1193948  -0.69962317  2.3761997 ]\n",
      "  [-2.1063135   1.241432   -0.37641466]\n",
      "  [ 1.3481439   1.2008075   3.8623884 ]]\n",
      "\n",
      " [[ 2.4435372  -2.303993    2.9639223 ]\n",
      "  [-1.7240126   1.5579128   2.83079   ]\n",
      "  [-0.53677857  0.4729932   0.264199  ]]\n",
      "\n",
      " [[ 0.5648883   2.2149122  -2.593795  ]\n",
      "  [-0.63140905  0.30658558  0.49794763]\n",
      "  [ 1.3328693  -0.4094291   1.1246842 ]]]\n",
      "[[4.670225  6.723273 ]\n",
      " [5.4078126 5.615126 ]]\n",
      "변수초기화 [[0.40524745 0.20708238]\n",
      " [0.6301048  1.0870813 ]]\n",
      "24\n"
     ]
    }
   ],
   "source": [
    "init = tf.global_variables_initializer()\n",
    "sess = tf.Session()\n",
    "sess.run(init)\n",
    "print(sess.run(normal))\n",
    "print(sess.run(trunc))\n",
    "print('변수초기화', sess.run(random_var))\n",
    "print(sess.run(my_var))"
   ]
  },
  {
   "cell_type": "code",
   "execution_count": 11,
   "metadata": {},
   "outputs": [
    {
     "name": "stdout",
     "output_type": "stream",
     "text": [
      "[[ 2.  1.  1.]\n",
      " [ 4.  3.  4.]\n",
      " [-4.  2.  2.]]\n"
     ]
    }
   ],
   "source": [
    "sess = tf.Session()\n",
    "#역행렬을 만들수 없으면 에러남\n",
    "x = tf.constant([2.0, 1.0, 1.0, 4,3,4,-4,2,2], shape=[3,3])\n",
    "print(sess.run(x))\n",
    "#x,y,z 3차 연립방정식 3개"
   ]
  },
  {
   "cell_type": "code",
   "execution_count": 12,
   "metadata": {},
   "outputs": [
    {
     "name": "stdout",
     "output_type": "stream",
     "text": [
      "[[ 1.]\n",
      " [ 2.]\n",
      " [-6.]]\n"
     ]
    }
   ],
   "source": [
    "y = tf.constant([1.0, 2, -6], shape=[3,1])\n",
    "#result y값 3개\n",
    "print(sess.run(y))"
   ]
  },
  {
   "cell_type": "code",
   "execution_count": 13,
   "metadata": {},
   "outputs": [
    {
     "name": "stdout",
     "output_type": "stream",
     "text": [
      "계수 [[ 1.0000001]\n",
      " [-2.0000002]\n",
      " [ 1.0000001]]\n"
     ]
    }
   ],
   "source": [
    "z = tf.matrix_solve(x,y) #x역행렬을 곱해서 연립방정식의 해를 구해주었다.\n",
    "result = sess.run(z)\n",
    "print('계수', result)\n",
    "#연립방정식의 해를 구하고 있음"
   ]
  },
  {
   "cell_type": "code",
   "execution_count": 14,
   "metadata": {},
   "outputs": [
    {
     "name": "stdout",
     "output_type": "stream",
     "text": [
      "[[ 1.0000001]\n",
      " [ 2.       ]\n",
      " [-6.000001 ]]\n"
     ]
    }
   ],
   "source": [
    "a = tf.matmul(x,z)\n",
    "print(sess.run(a)) #검산 y값과 동일"
   ]
  },
  {
   "cell_type": "code",
   "execution_count": 15,
   "metadata": {},
   "outputs": [
    {
     "name": "stdout",
     "output_type": "stream",
     "text": [
      "해 :  [[ 1.0000002]\n",
      " [-2.0000005]\n",
      " [ 1.0000002]]\n"
     ]
    }
   ],
   "source": [
    "x_1 = tf.matrix_inverse(x) #inverse값 -> 행렬나눗셈이 없으므로 역행렬을 구해서 곱한다.\n",
    "z = tf.matmul(x_1, y)\n",
    "print('해 : ', sess.run(z))\n",
    "#matrix_solve - 이놈이 자동으로 역행렬을 구해서 곱해줌\n",
    "#역행열을 구하고 행렬곱을 통해 해를구함"
   ]
  },
  {
   "cell_type": "code",
   "execution_count": 16,
   "metadata": {},
   "outputs": [
    {
     "name": "stdout",
     "output_type": "stream",
     "text": [
      "WARNING:tensorflow:From <ipython-input-16-a400842e0647>:2: to_float (from tensorflow.python.ops.math_ops) is deprecated and will be removed in a future version.\n",
      "Instructions for updating:\n",
      "Use `tf.cast` instead.\n",
      "[[-0.38631773 -0.92236584]\n",
      " [-0.92236584  0.38631773]]\n"
     ]
    }
   ],
   "source": [
    "a = tf.constant([1,2,3,4,5,6], shape=[2,3])\n",
    "a = tf.to_float(a)\n",
    "s,u,v = tf.svd(a) \n",
    "#특이행렬분해(singular value decomposition) 대상 : 비정방행렬\n",
    "#고유치 : u\n",
    "#직교행렬 : v\n",
    "print(sess.run(u))"
   ]
  },
  {
   "cell_type": "code",
   "execution_count": 17,
   "metadata": {},
   "outputs": [
    {
     "name": "stdout",
     "output_type": "stream",
     "text": [
      "[[1. 4.]\n",
      " [2. 5.]\n",
      " [3. 6.]]\n"
     ]
    }
   ],
   "source": [
    "print(sess.run(tf.transpose(a))) #역행렬을 구하는 방법"
   ]
  },
  {
   "cell_type": "code",
   "execution_count": 18,
   "metadata": {},
   "outputs": [
    {
     "name": "stdout",
     "output_type": "stream",
     "text": [
      "[2 2 3]\n",
      "[[[ 1  2  3]\n",
      "  [ 4  5  6]]\n",
      "\n",
      " [[ 7  8  9]\n",
      "  [10 11 12]]]\n"
     ]
    }
   ],
   "source": [
    "x = tf.constant([[[1,2,3],[4,5,6]],[[7,8,9],[10,11,12]]]) #2*2*3의 3차원행렬(면*행*렬)\n",
    "print(sess.run(tf.shape(x)))\n",
    "print(sess.run(x))"
   ]
  },
  {
   "cell_type": "code",
   "execution_count": 19,
   "metadata": {},
   "outputs": [
    {
     "data": {
      "text/plain": [
       "array([[[ 1,  7],\n",
       "        [ 4, 10]],\n",
       "\n",
       "       [[ 2,  8],\n",
       "        [ 5, 11]],\n",
       "\n",
       "       [[ 3,  9],\n",
       "        [ 6, 12]]])"
      ]
     },
     "execution_count": 19,
     "metadata": {},
     "output_type": "execute_result"
    }
   ],
   "source": [
    "sess.run(tf.transpose(x)) #3*2*2(면과 열이 바꼈다.)"
   ]
  },
  {
   "cell_type": "code",
   "execution_count": 20,
   "metadata": {},
   "outputs": [
    {
     "data": {
      "text/plain": [
       "array([[[ 1,  7],\n",
       "        [ 2,  8],\n",
       "        [ 3,  9]],\n",
       "\n",
       "       [[ 4, 10],\n",
       "        [ 5, 11],\n",
       "        [ 6, 12]]])"
      ]
     },
     "execution_count": 20,
     "metadata": {},
     "output_type": "execute_result"
    }
   ],
   "source": [
    "y = tf.transpose(x, perm=[0,2,1]) #2*2*3 -> 2*3*2 행과 열을 바꿔라(0,2,1)\n",
    "sess.run(tf.transpose(y))"
   ]
  },
  {
   "cell_type": "code",
   "execution_count": 21,
   "metadata": {},
   "outputs": [
    {
     "data": {
      "text/plain": [
       "array([[[ 14,  32],\n",
       "        [ 32,  77]],\n",
       "\n",
       "       [[194, 266],\n",
       "        [266, 365]]])"
      ]
     },
     "execution_count": 21,
     "metadata": {},
     "output_type": "execute_result"
    }
   ],
   "source": [
    "#3차원을 거듭제곱 하는법 : 열과 행만 바뀌어 있으면 제곱을 할 수 있다. (면은 노상관)\n",
    "sess.run(tf.matmul(x,tf.transpose(x,perm=[0,2,1]))) \n",
    "# 2*2*3  * 2*3*2 = 2*2*2 (행렬간의 연산을 생각해라.)\n",
    "#거듭제곱 -> 정방행렬, 대칭행렬이 된다."
   ]
  },
  {
   "cell_type": "code",
   "execution_count": 22,
   "metadata": {},
   "outputs": [
    {
     "data": {
      "text/plain": [
       "array([[[[[[1]],\n",
       "\n",
       "          [[2]],\n",
       "\n",
       "          [[3]]]],\n",
       "\n",
       "\n",
       "\n",
       "        [[[[4]],\n",
       "\n",
       "          [[5]],\n",
       "\n",
       "          [[6]]]]]])"
      ]
     },
     "execution_count": 22,
     "metadata": {},
     "output_type": "execute_result"
    }
   ],
   "source": [
    "t = [1,2,3,4,5,6] #데이터 6개\n",
    "t = tf.reshape(t, [1,2,1,3,1,1]) #다 곱하면 6 -> 각 차원당 데이터 수\n",
    "sess.run(t)\n",
    "#6차원 꺽쇠 6개 [[[[[[, 행렬곱의 규칙 - 앞의 열과 뒤의 행의 수가 같아야 한다. -> 앞의 행* 뒤의 열을 가진 행렬이 생성\n",
    "#안맞을경우 reshape을 통해 맞춰줘야 한다.(차원만 늘린다. 요소수는 동일)"
   ]
  },
  {
   "cell_type": "code",
   "execution_count": 23,
   "metadata": {},
   "outputs": [
    {
     "name": "stdout",
     "output_type": "stream",
     "text": [
      "차원의 수를 축소 :  [2 3]\n"
     ]
    }
   ],
   "source": [
    "print('차원의 수를 축소 : ', sess.run(tf.shape(tf.squeeze(t)))) #1차원을 전부 없애 준다.(1차원인 놈을 전부 제거)\n",
    "#2와 3만 남았다."
   ]
  },
  {
   "cell_type": "code",
   "execution_count": 24,
   "metadata": {},
   "outputs": [
    {
     "name": "stdout",
     "output_type": "stream",
     "text": [
      "[[ 1  2  3  4  5  6]\n",
      " [ 7  8  9 10 11 12]]\n",
      "[[[ 1  2  3]\n",
      "  [ 4  5  6]]\n",
      "\n",
      " [[ 7  8  9]\n",
      "  [10 11 12]]]\n"
     ]
    }
   ],
   "source": [
    "tensor = [1,2,3,4,5,6,7,8,9,10,11,12] #12개\n",
    "print(sess.run(tf.reshape(tensor, [2,-1]))) #-1은 계산해서 채워라\n",
    "print(sess.run(tf.reshape(tensor, [2, -1, 3]))) #-1은 여기서 2가 된다.(나머지 값들을 주고 알아서 계산해서 넣으라는 말)"
   ]
  },
  {
   "cell_type": "code",
   "execution_count": 25,
   "metadata": {},
   "outputs": [
    {
     "name": "stdout",
     "output_type": "stream",
     "text": [
      "[[0 0 0 0 0 0 0]\n",
      " [0 0 1 2 3 0 0]\n",
      " [0 0 4 5 6 0 0]\n",
      " [0 0 0 0 0 0 0]]\n"
     ]
    }
   ],
   "source": [
    "t = [[1,2,3],[4,5,6]]\n",
    "padding = [[1,1],[2,2]] #CNN(convolution neural network)에서 padding을 해주어야한다.\n",
    "#컴볼루션 연산을 하게되면 자동으로 사이즈가 줄어든다.\n",
    "#원래의 사이즈와 일치시키기 위해서 0으로 채워준다.\n",
    "#행을 위아래로 하나씩 늘임 [1,1]\n",
    "#열을 양옆으로 하나씩 늘임 [2,2]\n",
    "print(sess.run(tf.pad(t, padding, 'CONSTANT'))) #CONSTANT 0으로 채움"
   ]
  },
  {
   "cell_type": "code",
   "execution_count": 26,
   "metadata": {},
   "outputs": [
    {
     "name": "stdout",
     "output_type": "stream",
     "text": [
      "[[5 4 5 6 5]\n",
      " [2 1 2 3 2]\n",
      " [5 4 5 6 5]\n",
      " [2 1 2 3 2]]\n"
     ]
    }
   ],
   "source": [
    "paddings = [[1,1],[1,1]]\n",
    "print(sess.run(tf.pad(t, paddings, 'REFLECT'))) #복사되어 반복된다."
   ]
  },
  {
   "cell_type": "code",
   "execution_count": 27,
   "metadata": {},
   "outputs": [
    {
     "name": "stdout",
     "output_type": "stream",
     "text": [
      "[[1 1 2 3 3]\n",
      " [1 1 2 3 3]\n",
      " [4 4 5 6 6]\n",
      " [4 4 5 6 6]]\n"
     ]
    }
   ],
   "source": [
    "paddings = [[1,1],[1,1]]\n",
    "print(sess.run(tf.pad(t, paddings, 'SYMMETRIC'))) #끝에있는 애가 복사된다."
   ]
  },
  {
   "cell_type": "code",
   "execution_count": 28,
   "metadata": {},
   "outputs": [],
   "source": [
    "def run_variable(variable):\n",
    "    tf.global_variables_initializer()\n",
    "    with tf.Session() as sess:\n",
    "        #run 실행시 numpy 데이터로 변경가능 -> 후에 시각화 가능\n",
    "        return sess.run(variable)\n",
    "    #텐서 플로우의 데이터도 시각화가 가능하다."
   ]
  },
  {
   "cell_type": "code",
   "execution_count": 29,
   "metadata": {},
   "outputs": [
    {
     "data": {
      "image/png": "[encoded data removed]",
      "text/plain": [
       "<Figure size 432x288 with 1 Axes>"
      ]
     },
     "metadata": {
      "needs_background": "light"
     },
     "output_type": "display_data"
    }
   ],
   "source": [
    "my_distribution = tf.random_uniform((600,400), seed=42)\n",
    "uniform = run_variable(my_distribution)\n",
    "from matplotlib import pyplot as plt\n",
    "plt.hist(uniform.flatten())\n",
    "plt.show()"
   ]
  },
  {
   "cell_type": "code",
   "execution_count": 30,
   "metadata": {},
   "outputs": [],
   "source": [
    "#entropy"
   ]
  },
  {
   "cell_type": "code",
   "execution_count": 31,
   "metadata": {},
   "outputs": [
    {
     "data": {
      "text/plain": [
       "<matplotlib.legend.Legend at 0x1b53a819188>"
      ]
     },
     "execution_count": 31,
     "metadata": {},
     "output_type": "execute_result"
    },
    {
     "data": {
      "image/png": "[encoded data removed]",
      "text/plain": [
       "<Figure size 432x288 with 1 Axes>"
      ]
     },
     "metadata": {
      "needs_background": "light"
     },
     "output_type": "display_data"
    }
   ],
   "source": [
    "import numpy as np\n",
    "import matplotlib.pyplot as plt\n",
    "def entropy(p):\n",
    "    #복잡도를 나타내는 지표이다.\n",
    "    #확률이 높으면 복잡도는 낮아진다.\n",
    "    #확률이 낮으면 복잡도는 높아진다.\n",
    "    return -np.log2(p)\n",
    "x = np.arange(0.01, 1, 0.01)\n",
    "#확률값은 0~1사이의값\n",
    "plt.plot(x, x, label='probability')\n",
    "plt.plot(x, entropy(x), label='entropy')\n",
    "plt.legend()\n",
    "#복잡도는 낮추는게 목표가 된다. - costfunction이 된다. 위치마다 미분이 가능\n",
    "#cost function은 미분이 가능해야 한다."
   ]
  },
  {
   "cell_type": "code",
   "execution_count": 32,
   "metadata": {},
   "outputs": [
    {
     "data": {
      "text/plain": [
       "<matplotlib.collections.PathCollection at 0x1b53a8b8608>"
      ]
     },
     "execution_count": 32,
     "metadata": {},
     "output_type": "execute_result"
    },
    {
     "data": {
      "image/png": "[encoded data removed]",
      "text/plain": [
       "<Figure size 432x288 with 1 Axes>"
      ]
     },
     "metadata": {
      "needs_background": "light"
     },
     "output_type": "display_data"
    }
   ],
   "source": [
    "#2개의 클래스가 존재할때 어떤것을 선택할지 모른다. ->  분류복잡도 cost function 미분이 가능하다.\n",
    "# -를 붙이는 이유는 로그함수의 값의 영역 때문에\n",
    "#cost function으로 사용\n",
    "def cross_entropy(p):\n",
    "    #크로스 엔트로피\n",
    "    return -(p*np.log2(p)+(1-p)*np.log2(1-p))\n",
    "x = np.arange(0.01, 1, 0.01)\n",
    "y = cross_entropy(x)\n",
    "plt.title('entropy')\n",
    "plt.xticks(np.arange(0.1,1,0.1))\n",
    "plt.grid()\n",
    "plt.scatter(x,y,color='#BB003C')\n",
    "#0.5일때 가장 높은 이유는 둘중에 선택하기가 어렵기 때문에"
   ]
  },
  {
   "cell_type": "code",
   "execution_count": 33,
   "metadata": {},
   "outputs": [],
   "source": [
    "#만약 숫자를 분리한다고 하면 0,1,2,3,4,5,6,7,8,9 확률값들을 전부 지수를 내서 더하면 총합이 1이된다.\n",
    "#그것의 확률값이 가장높은것으로 분류된다.\n",
    "#다중분류기 - 지수함수를 사용한다.(비선형, 증가하는 함수를 보이기 때문에)\n",
    "def softmax(x):\n",
    "    #총합이 1인 확률값으로 다중분류시 사용한다.\n",
    "    if x.ndim ==2:\n",
    "        x = x.T\n",
    "        x = x-np.max(x, axis=0)\n",
    "        y = np.exp(x)/np.sum(np.exp(x), axis=0)\n",
    "        return y.T"
   ]
  },
  {
   "cell_type": "code",
   "execution_count": 34,
   "metadata": {},
   "outputs": [
    {
     "name": "stdout",
     "output_type": "stream",
     "text": [
      "60000\n",
      "600.0\n",
      "train acc, test acc | 0.11236666666666667,0.1135\n",
      "train acc, test acc | 0.7908166666666666,0.7958\n",
      "train acc, test acc | 0.8784166666666666,0.8819\n",
      "train acc, test acc | 0.8998333333333334,0.9017\n",
      "train acc, test acc | 0.9080333333333334,0.9126\n",
      "train acc, test acc | 0.9138833333333334,0.9157\n",
      "train acc, test acc | 0.91915,0.9214\n",
      "train acc, test acc | 0.92355,0.9254\n",
      "train acc, test acc | 0.9266166666666666,0.9275\n",
      "train acc, test acc | 0.93005,0.9323\n",
      "train acc, test acc | 0.93255,0.9323\n",
      "train acc, test acc | 0.9358,0.9365\n",
      "train acc, test acc | 0.9376833333333333,0.9392\n",
      "train acc, test acc | 0.9395166666666667,0.9385\n",
      "train acc, test acc | 0.94195,0.9413\n",
      "train acc, test acc | 0.9442333333333334,0.9436\n",
      "train acc, test acc | 0.9462166666666667,0.9435\n"
     ]
    },
    {
     "data": {
      "image/png": "[encoded data removed]",
      "text/plain": [
       "<Figure size 432x288 with 1 Axes>"
      ]
     },
     "metadata": {
      "needs_background": "light"
     },
     "output_type": "display_data"
    }
   ],
   "source": [
    "import sys, os\n",
    "#sys - 파이썬에 관한 사항을 다룬다.\n",
    "#os - 윈도우에 관한 내용을 다룸(디렉토리 생성, 파일생성)\n",
    "sys.path.append(os.pardir) #현재 작업 디렉토리의 부모디렉토리를 path로 삼는다.\n",
    "#class base로 모델을 작성\n",
    "from dataset.mnist import load_mnist\n",
    "from two_layer_net import TwoLayerNet #파이썬 파일\n",
    "\n",
    "(x_train, t_train), (x_test, t_test) = load_mnist(normalize = True, one_hot_label = True) #데이터 로딩\n",
    "network = TwoLayerNet(input_size=784, hidden_size=50, output_size=10)\n",
    "#가중치 ?*784 -> 784*50 -> 50*10 -> 10개의 레벨이 존재한다.\n",
    "iters_num = 10000 #반복횟수 (epochs)\n",
    "train_size = x_train.shape[0] #데이터 사이즈\n",
    "print(train_size)\n",
    "batch_size = 100 #데이터가 100개 들어갈거다. (행)\n",
    "learning_rate = 0.1 #역전파시 오차를 적용할 비율을 얘기한다.\n",
    "\n",
    "train_loss_list = [] #loss값의 변화추세를 보기위해 값을 회전마다 저장\n",
    "train_acc_list = [] #accuracy값\n",
    "test_acc_list = []\n",
    "\n",
    "#10000*iter_per_epoch = 실제 회전횟수 ? 아니래 갑자기\n",
    "#60000 -> 600번?\n",
    "iter_per_epoch = max(train_size/batch_size, 1) #실 데이터 사이즈에 batch사이즈를 나눈것\n",
    "print(iter_per_epoch)\n",
    "for i in range(iters_num):\n",
    "    batch_mask = np.random.choice(train_size, batch_size)\n",
    "    x_batch = x_train[batch_mask] #독립변수\n",
    "    t_batch = t_train[batch_mask] #종속변수\n",
    "    \n",
    "    grad = network.gradient(x_batch, t_batch) #경사하강법을 적용(구해진 학습할 양이 grad에 담긴다.)\n",
    "    for key in ('W1','b1','W2','b2'):\n",
    "        network.params[key] -= learning_rate*grad[key]  #가중치 수정\n",
    "    loss = network.loss(x_batch, t_batch) #손실량을 잰다.\n",
    "    train_loss_list.append(loss)\n",
    "    \n",
    "    if i%iter_per_epoch == 0:\n",
    "        #600번마다 한번씩 얘를 출력해줘라 -> 데이터 한번이 다 회전\n",
    "        train_acc = network.accuracy(x_train, t_train)\n",
    "        test_acc = network.accuracy(x_test, t_test) #훈련데이터의 어큘러시\n",
    "        train_acc_list.append(train_acc)\n",
    "        test_acc_list.append(test_acc)\n",
    "        print('train acc, test acc | '+ str(train_acc) +\",\"+ str(test_acc))\n",
    "markers = {'train':'o', \"test\":'s'}\n",
    "x = np.arange(len(train_acc_list))\n",
    "plt.plot(x, train_acc_list, label='train acc')\n",
    "plt.plot(x, test_acc_list, label='test acc', linestyle='--')\n",
    "plt.xlabel('epochs')\n",
    "plt.ylabel('accuracy')\n",
    "plt.ylim(0, 1.0)\n",
    "plt.legend(loc='lower right')\n",
    "plt.show()\n",
    "#tensorflow에서 만들어 놓은 함수를 사용하게되면\n",
    "#이 기능들을 내포하고 있다."
   ]
  },
  {
   "cell_type": "code",
   "execution_count": 35,
   "metadata": {},
   "outputs": [
    {
     "data": {
      "text/plain": [
       "16.666666666666668"
      ]
     },
     "execution_count": 35,
     "metadata": {},
     "output_type": "execute_result"
    }
   ],
   "source": [
    "10000/600 #번 출력이 된다."
   ]
  },
  {
   "cell_type": "code",
   "execution_count": 49,
   "metadata": {},
   "outputs": [
    {
     "name": "stdout",
     "output_type": "stream",
     "text": [
      "\n",
      " Sigmoid & Relu 함수의 최적화 0.75\n",
      "sigmoid = 0.12655206 relu = 2.0227606\n",
      "sigmoid = 0.17863758 relu = 0.7530296\n",
      "sigmoid = 0.24769813 relu = 0.7492897\n",
      "sigmoid = 0.3446748 relu = 0.7499546\n",
      "sigmoid = 0.4400661 relu = 0.7539999\n",
      "sigmoid = 0.5236898 relu = 0.754772\n",
      "sigmoid = 0.58373857 relu = 0.7508698\n",
      "sigmoid = 0.62733483 relu = 0.7470234\n",
      "sigmoid = 0.6549499 relu = 0.75180537\n",
      "sigmoid = 0.67452586 relu = 0.75470716\n"
     ]
    },
    {
     "name": "stderr",
     "output_type": "stream",
     "text": [
      "C:\\ProgramData\\Anaconda3\\lib\\site-packages\\matplotlib\\backends\\backend_agg.py:211: RuntimeWarning: Glyph 49464 missing from current font.\n",
      "  font.set_text(s, 0.0, flags=flags)\n",
      "C:\\ProgramData\\Anaconda3\\lib\\site-packages\\matplotlib\\backends\\backend_agg.py:211: RuntimeWarning: Glyph 45824 missing from current font.\n",
      "  font.set_text(s, 0.0, flags=flags)\n",
      "C:\\ProgramData\\Anaconda3\\lib\\site-packages\\matplotlib\\backends\\backend_agg.py:211: RuntimeWarning: Glyph 48324 missing from current font.\n",
      "  font.set_text(s, 0.0, flags=flags)\n",
      "C:\\ProgramData\\Anaconda3\\lib\\site-packages\\matplotlib\\backends\\backend_agg.py:211: RuntimeWarning: Glyph 44050 missing from current font.\n",
      "  font.set_text(s, 0.0, flags=flags)\n",
      "C:\\ProgramData\\Anaconda3\\lib\\site-packages\\matplotlib\\backends\\backend_agg.py:180: RuntimeWarning: Glyph 49464 missing from current font.\n",
      "  font.set_text(s, 0, flags=flags)\n",
      "C:\\ProgramData\\Anaconda3\\lib\\site-packages\\matplotlib\\backends\\backend_agg.py:180: RuntimeWarning: Glyph 45824 missing from current font.\n",
      "  font.set_text(s, 0, flags=flags)\n",
      "C:\\ProgramData\\Anaconda3\\lib\\site-packages\\matplotlib\\backends\\backend_agg.py:180: RuntimeWarning: Glyph 48324 missing from current font.\n",
      "  font.set_text(s, 0, flags=flags)\n",
      "C:\\ProgramData\\Anaconda3\\lib\\site-packages\\matplotlib\\backends\\backend_agg.py:180: RuntimeWarning: Glyph 44050 missing from current font.\n",
      "  font.set_text(s, 0, flags=flags)\n"
     ]
    },
    {
     "data": {
      "image/png": "[encoded data removed]",
      "text/plain": [
       "<Figure size 432x288 with 1 Axes>"
      ]
     },
     "metadata": {
      "needs_background": "light"
     },
     "output_type": "display_data"
    }
   ],
   "source": [
    "#sigmoid & relu 를 비교\n",
    "from tensorflow.python.framework import ops\n",
    "ops.reset_default_graph() #이놈을 호출하기 위해\n",
    "#static 방식과 dynamic 방식이 있다.\n",
    "#static 방식 - 그래프를 한번 생성하면 다시 생성할 수 없다.\n",
    "\n",
    "sess = tf.Session() #세션연결\n",
    "tf.set_random_seed(5) #텐서생성\n",
    "np.random.seed(42) #np생성\n",
    "batch_size = 50\n",
    "\n",
    "#가중치와 바이어스는 y = ax+b\n",
    "a1 = tf.Variable(tf.random_normal(shape=[1,1]))\n",
    "b1 = tf.Variable(tf.random_uniform(shape=[1,1]))\n",
    "a2 = tf.Variable(tf.random_normal(shape=[1,1]))\n",
    "b2 = tf.Variable(tf.random_uniform(shape=[1,1]))\n",
    "x = np.random.normal(2,0.1,500) #평균2 표준편차0.1 데이터갯수500\n",
    "\n",
    "x_data = tf.placeholder(shape=[None, 1], dtype=tf.float32) \n",
    "#데이터 주입변수, 행이몇개인지는 모르겠고->입력되는 행렬수로 none이 결정된다. none = 입력되는 데이터수로 결정해라.\n",
    "\n",
    "sigmoid_activation = tf.sigmoid(tf.add(tf.matmul(x_data, a1), b1)) #예측하는 단계, 예측후 sigmoid\n",
    "relu_activation = tf.nn.relu(tf.add(tf.matmul(x_data, a2), b2)) #예측하는 단계, 예측후 relu\n",
    "\n",
    "#MSE값이 된다.\n",
    "loss1 = tf.reduce_mean(tf.square(tf.subtract(sigmoid_activation, 0.75))) #0.75로 가상으로 잡아서 평균을 냈다.\n",
    "loss2 = tf.reduce_mean(tf.square(tf.subtract(relu_activation, 0.75)))\n",
    "\n",
    "init = tf.global_variables_initializer()\n",
    "sess.run(init)\n",
    "\n",
    "#최적화기 - GradientDescentOptimizer 제일간단\n",
    "#미분을 명시적으로 하지 않는다 -> tensorflow에서 자동으로 이루어진다.(최적화기에서)\n",
    "my_opt = tf.train.GradientDescentOptimizer(0.01) #매개변수 러닝레이트\n",
    "train_step_sigmoid = my_opt.minimize(loss1) #loss를 최적화해라 (loss로 가서 그식을 계산하고 돌아오게 된다.) 작아지게해라.\n",
    "train_step_relu = my_opt.minimize(loss2) #minimize 최소화\n",
    "print('\\n Sigmoid & Relu 함수의 최적화 0.75')\n",
    "\n",
    "loss_vec_sigmoid = []\n",
    "loss_vec_relu = []\n",
    "\n",
    "for i in range(500):\n",
    "    #데이터를 주입하면서 학습하게된다.\n",
    "    rand_indices = np.random.choice(len(x), size=batch_size)\n",
    "    x_vals = np.transpose([x[rand_indices]])\n",
    "    \n",
    "    sess.run(train_step_sigmoid, feed_dict={x_data:x_vals}) \n",
    "    #꼭지를 돌려 학습을 함 -> 학습후 가중치 업데이트 된값에 값을 집어넣고 loss 구함\n",
    "    sess.run(train_step_relu, feed_dict={x_data:x_vals})\n",
    "    \n",
    "    #loss 가중치가 업데이트 된다음에 평가 -> 가중치를 평가\n",
    "    loss_vec_sigmoid.append(sess.run(loss1, feed_dict={x_data:x_vals}))\n",
    "    loss_vec_relu.append(sess.run(loss2, feed_dict={x_data:x_vals}))\n",
    "    \n",
    "    sigmoid_output = np.mean(sess.run(sigmoid_activation, feed_dict={x_data:x_vals}))\n",
    "    relu_output = np.mean(sess.run(relu_activation, feed_dict={x_data:x_vals}))\n",
    "    \n",
    "    if i%50==0:\n",
    "        print('sigmoid = '+str(np.mean(sigmoid_output))+' relu = '+str(np.mean(relu_output)))\n",
    "        \n",
    "plt.plot(loss_vec_sigmoid, 'k-', label='Sigmoid Activation')\n",
    "plt.plot(loss_vec_relu, 'r--', label='Relu Activation')\n",
    "plt.ylim([0,1.0])\n",
    "plt.title('세대별 loss값')\n",
    "plt.xlabel('Generation')\n",
    "plt.ylabel('loss')\n",
    "plt.legend(loc='upper right')\n",
    "plt.show()\n",
    "#변수에는 가중치가 저장되고 a1,a2,b1,b2"
   ]
  },
  {
   "cell_type": "code",
   "execution_count": null,
   "metadata": {},
   "outputs": [],
   "source": [
    "#loss가 줄어드는데 sigmoid는 천천히 줄어든다. -> 데이터가 비교적 많이 필요하다.\n",
    "#relu는 급격히 줄어든다. -> 데이터가 작아도 적합된다. (0밑을 절사시키니까 riky relu로 -1까지 남긴다.)\n",
    "    #빠른 학습속도로 relu를 더 많이 사용하게 된다."
   ]
  },
  {
   "cell_type": "code",
   "execution_count": 50,
   "metadata": {},
   "outputs": [],
   "source": [
    "#sigmoid 함수는 0<n<1 사이의 값만 다루므로 \n",
    "# 결국 chain rule을 이용해 계속 값을 곱해나간다고 했을 때 결과 값이 0에 수렴할 수 밖에 없다는 한계를 가지고 있으므로, \n",
    "#나중에는 1보다 작아지지 않게 하기 위한 대안으로 ReLU라는 함수를 적용하게 된다.\n",
    "#relu\n",
    "#이 함수는 쉽게 말해 0보다 작은 값이 나온 경우 0을 반환하고, 0보다 큰 값이 나온 경우 그 값을 그대로 반환하는 함수다. \n",
    "#0보다 큰 값일 경우 1을 반환하는 sigmoid와 다르다. 따라서 내부 hidden layer에는 ReLU를 적용하고, \n",
    "#마지막 output layer에서만 sigmoid 함수를 적용하면 이전에 비해 정확도가 훨씬 올라가게 된다."
   ]
  },
  {
   "cell_type": "code",
   "execution_count": 61,
   "metadata": {},
   "outputs": [],
   "source": [
    "#선형회귀\n",
    "import numpy\n",
    "rng = numpy.random\n",
    "learning_rate = 0.01\n",
    "training_epochs = 1000\n",
    "display_step = 50\n",
    "train_x = numpy.asarray([3.3,4.4,5.5,6.71,6.93,4.168,9.779,6.182,7.59,2.167,7.042,10.791,5.313,7.997,5.654,9.27,3.1])\n",
    "train_y = numpy.asarray([1.7,2.76,2.09,3.19,1.694,1.573,3.366,2.596,2.53,1.221,2.827,3.465,1.65,2.904,2.42,2.94,1.3]) \n",
    "n_samples = train_x.shape[0]"
   ]
  },
  {
   "cell_type": "code",
   "execution_count": 62,
   "metadata": {},
   "outputs": [],
   "source": [
    "X = tf.placeholder('float')\n",
    "Y = tf.placeholder('float')\n",
    "W = tf.Variable(rng.randn(), name='weight')\n",
    "b = tf.Variable(rng.randn(), name='bias')"
   ]
  },
  {
   "cell_type": "code",
   "execution_count": 63,
   "metadata": {},
   "outputs": [],
   "source": [
    "pred = tf.add(tf.multiply(X,W),b)\n",
    "cost = tf.reduce_sum(tf.pow(pred-Y,2))/(2*n_samples)\n",
    "optimizer = tf.train.GradientDescentOptimizer(learning_rate).minimize(cost)\n",
    "init = tf.global_variables_initializer()"
   ]
  },
  {
   "cell_type": "code",
   "execution_count": 64,
   "metadata": {},
   "outputs": [
    {
     "name": "stdout",
     "output_type": "stream",
     "text": [
      "Epoch = 0050 , cost = 0.215673491 , W =  0.040367033 , b =  2.2959416\n",
      "Epoch = 0050 , cost = 0.215694979 , W =  0.04110842 , b =  2.2961102\n",
      "Epoch = 0050 , cost = 0.215687409 , W =  0.039710104 , b =  2.295856\n",
      "Epoch = 0050 , cost = 0.215747461 , W =  0.04218763 , b =  2.2962253\n",
      "Epoch = 0050 , cost = 0.215760469 , W =  0.038540877 , b =  2.2956991\n",
      "Epoch = 0050 , cost = 0.216026142 , W =  0.036375143 , b =  2.2951796\n",
      "Epoch = 0050 , cost = 0.215608180 , W =  0.040488694 , b =  2.2956002\n",
      "Epoch = 0050 , cost = 0.215609461 , W =  0.040670875 , b =  2.2956297\n",
      "Epoch = 0050 , cost = 0.215610087 , W =  0.04033905 , b =  2.295586\n",
      "Epoch = 0050 , cost = 0.215590850 , W =  0.03885784 , b =  2.2949026\n",
      "Epoch = 0050 , cost = 0.215532944 , W =  0.039928474 , b =  2.2950547\n",
      "Epoch = 0050 , cost = 0.215853781 , W =  0.044619873 , b =  2.2954893\n",
      "Epoch = 0050 , cost = 0.215493992 , W =  0.04186163 , b =  2.2949703\n",
      "Epoch = 0050 , cost = 0.215602025 , W =  0.043151792 , b =  2.2951317\n",
      "Epoch = 0050 , cost = 0.215556711 , W =  0.04275564 , b =  2.2950616\n",
      "Epoch = 0050 , cost = 0.215722814 , W =  0.044111207 , b =  2.2952077\n",
      "Epoch = 0050 , cost = 0.215418831 , W =  0.042047057 , b =  2.2945418\n",
      "Epoch = 0100 , cost = 0.199692309 , W =  0.052818608 , b =  2.2070656\n",
      "Epoch = 0100 , cost = 0.199714079 , W =  0.053648222 , b =  2.2072542\n",
      "Epoch = 0100 , cost = 0.199705064 , W =  0.052314248 , b =  2.2070117\n",
      "Epoch = 0100 , cost = 0.199774399 , W =  0.05480863 , b =  2.2073834\n",
      "Epoch = 0100 , cost = 0.199772269 , W =  0.0511675 , b =  2.206858\n",
      "Epoch = 0100 , cost = 0.200015843 , W =  0.04909055 , b =  2.2063596\n",
      "Epoch = 0100 , cost = 0.199634954 , W =  0.052999754 , b =  2.2067595\n",
      "Epoch = 0100 , cost = 0.199636519 , W =  0.053223744 , b =  2.2067957\n",
      "Epoch = 0100 , cost = 0.199636981 , W =  0.052863155 , b =  2.2067482\n",
      "Epoch = 0100 , cost = 0.199621320 , W =  0.051460594 , b =  2.206101\n",
      "Epoch = 0100 , cost = 0.199567080 , W =  0.052531447 , b =  2.206253\n",
      "Epoch = 0100 , cost = 0.199855044 , W =  0.056923255 , b =  2.20666\n",
      "Epoch = 0100 , cost = 0.199529201 , W =  0.054238334 , b =  2.2061546\n",
      "Epoch = 0100 , cost = 0.199623615 , W =  0.0554807 , b =  2.20631\n",
      "Epoch = 0100 , cost = 0.199588224 , W =  0.05514812 , b =  2.2062511\n",
      "Epoch = 0100 , cost = 0.199726105 , W =  0.05636154 , b =  2.206382\n",
      "Epoch = 0100 , cost = 0.199460670 , W =  0.054390118 , b =  2.2057462\n",
      "Epoch = 0150 , cost = 0.185553446 , W =  0.064530246 , b =  2.123472\n",
      "Epoch = 0150 , cost = 0.185575068 , W =  0.065442845 , b =  2.1236794\n",
      "Epoch = 0150 , cost = 0.185564816 , W =  0.064169385 , b =  2.123448\n",
      "Epoch = 0150 , cost = 0.185643032 , W =  0.06667962 , b =  2.123822\n",
      "Epoch = 0150 , cost = 0.185626760 , W =  0.063043766 , b =  2.1232972\n",
      "Epoch = 0150 , cost = 0.185850397 , W =  0.061050326 , b =  2.122819\n",
      "Epoch = 0150 , cost = 0.185502797 , W =  0.06476732 , b =  2.123199\n",
      "Epoch = 0150 , cost = 0.185504615 , W =  0.065030634 , b =  2.1232417\n",
      "Epoch = 0150 , cost = 0.185504943 , W =  0.06464299 , b =  2.1231906\n",
      "Epoch = 0150 , cost = 0.185492277 , W =  0.0633144 , b =  2.1225774\n",
      "Epoch = 0150 , cost = 0.185441583 , W =  0.06438546 , b =  2.1227295\n",
      "Epoch = 0150 , cost = 0.185700208 , W =  0.068495475 , b =  2.1231105\n",
      "Epoch = 0150 , cost = 0.185405090 , W =  0.06587952 , b =  2.1226182\n",
      "Epoch = 0150 , cost = 0.185487360 , W =  0.06707692 , b =  2.122768\n",
      "Epoch = 0150 , cost = 0.185460433 , W =  0.06680413 , b =  2.1227198\n",
      "Epoch = 0150 , cost = 0.185574070 , W =  0.06788385 , b =  2.1228364\n",
      "Epoch = 0150 , cost = 0.185342684 , W =  0.06599964 , b =  2.1222286\n",
      "Epoch = 0200 , cost = 0.173044860 , W =  0.075545326 , b =  2.0448494\n",
      "Epoch = 0200 , cost = 0.173065916 , W =  0.07653598 , b =  2.0450745\n",
      "Epoch = 0200 , cost = 0.173054695 , W =  0.07531943 , b =  2.0448532\n",
      "Epoch = 0200 , cost = 0.173141375 , W =  0.077844575 , b =  2.0452294\n",
      "Epoch = 0200 , cost = 0.173111811 , W =  0.0742137 , b =  2.0447054\n",
      "Epoch = 0200 , cost = 0.173317462 , W =  0.0722988 , b =  2.044246\n",
      "Epoch = 0200 , cost = 0.172999799 , W =  0.07583503 , b =  2.0446076\n",
      "Epoch = 0200 , cost = 0.173001826 , W =  0.07613533 , b =  2.0446563\n",
      "Epoch = 0200 , cost = 0.173002034 , W =  0.07572224 , b =  2.044602\n",
      "Epoch = 0200 , cost = 0.172992095 , W =  0.074463226 , b =  2.044021\n",
      "Epoch = 0200 , cost = 0.172944635 , W =  0.07553448 , b =  2.044173\n",
      "Epoch = 0200 , cost = 0.173176959 , W =  0.07937947 , b =  2.0445292\n",
      "Epoch = 0200 , cost = 0.172909632 , W =  0.076828375 , b =  2.044049\n",
      "Epoch = 0200 , cost = 0.172981113 , W =  0.07798349 , b =  2.0441935\n",
      "Epoch = 0200 , cost = 0.172961205 , W =  0.07776693 , b =  2.0441551\n",
      "Epoch = 0200 , cost = 0.173054084 , W =  0.0787209 , b =  2.044258\n",
      "Epoch = 0200 , cost = 0.172852919 , W =  0.076918714 , b =  2.0436769\n",
      "Epoch = 0250 , cost = 0.161978722 , W =  0.08590526 , b =  1.9709038\n",
      "Epoch = 0250 , cost = 0.161998987 , W =  0.086969316 , b =  1.9711456\n",
      "Epoch = 0250 , cost = 0.161986917 , W =  0.0858063 , b =  1.9709342\n",
      "Epoch = 0250 , cost = 0.162081659 , W =  0.08834547 , b =  1.9713125\n",
      "Epoch = 0250 , cost = 0.162039638 , W =  0.084719256 , b =  1.9707893\n",
      "Epoch = 0250 , cost = 0.162229091 , W =  0.082878225 , b =  1.9703476\n",
      "Epoch = 0250 , cost = 0.161938414 , W =  0.08624442 , b =  1.9706919\n",
      "Epoch = 0250 , cost = 0.161940619 , W =  0.0865795 , b =  1.9707462\n",
      "Epoch = 0250 , cost = 0.161940649 , W =  0.08614247 , b =  1.9706886\n",
      "Epoch = 0250 , cost = 0.161933005 , W =  0.08494889 , b =  1.9701378\n",
      "Epoch = 0250 , cost = 0.161888659 , W =  0.08602032 , b =  1.97029\n",
      "Epoch = 0250 , cost = 0.162097543 , W =  0.08961604 , b =  1.9706231\n",
      "Epoch = 0250 , cost = 0.161855370 , W =  0.08712595 , b =  1.9701544\n",
      "Epoch = 0250 , cost = 0.161917210 , W =  0.088241294 , b =  1.9702939\n",
      "Epoch = 0250 , cost = 0.161903277 , W =  0.08807763 , b =  1.9702649\n",
      "Epoch = 0250 , cost = 0.161978379 , W =  0.08891332 , b =  1.970355\n",
      "Epoch = 0250 , cost = 0.161803946 , W =  0.08718829 , b =  1.9697986\n",
      "Epoch = 0300 , cost = 0.152187780 , W =  0.0956498 , b =  1.9013504\n",
      "Epoch = 0300 , cost = 0.152206898 , W =  0.09678291 , b =  1.9016079\n",
      "Epoch = 0300 , cost = 0.152194202 , W =  0.095670246 , b =  1.9014056\n",
      "Epoch = 0300 , cost = 0.152296573 , W =  0.0982226 , b =  1.901786\n",
      "Epoch = 0300 , cost = 0.152242810 , W =  0.09460078 , b =  1.9012634\n",
      "Epoch = 0300 , cost = 0.152417660 , W =  0.092829235 , b =  1.9008384\n",
      "Epoch = 0300 , cost = 0.152151257 , W =  0.09603551 , b =  1.9011662\n",
      "Epoch = 0300 , cost = 0.152153626 , W =  0.09640331 , b =  1.9012257\n",
      "Epoch = 0300 , cost = 0.152153462 , W =  0.09594377 , b =  1.9011651\n",
      "Epoch = 0300 , cost = 0.152147815 , W =  0.09481174 , b =  1.9006428\n",
      "Epoch = 0300 , cost = 0.152106375 , W =  0.09588333 , b =  1.900795\n",
      "Epoch = 0300 , cost = 0.152294219 , W =  0.09924459 , b =  1.9011065\n",
      "Epoch = 0300 , cost = 0.152074978 , W =  0.09681188 , b =  1.9006486\n",
      "Epoch = 0300 , cost = 0.152128235 , W =  0.09788982 , b =  1.9007834\n",
      "Epoch = 0300 , cost = 0.152119249 , W =  0.0977759 , b =  1.9007633\n",
      "Epoch = 0300 , cost = 0.152179301 , W =  0.09850035 , b =  1.9008415\n",
      "Epoch = 0300 , cost = 0.152028471 , W =  0.09684788 , b =  1.9003084\n",
      "Epoch = 0350 , cost = 0.143526554 , W =  0.10481386 , b =  1.8359404\n",
      "Epoch = 0350 , cost = 0.143544376 , W =  0.1060119 , b =  1.8362126\n",
      "Epoch = 0350 , cost = 0.143531144 , W =  0.10494658 , b =  1.8360189\n",
      "Epoch = 0350 , cost = 0.143640786 , W =  0.10751134 , b =  1.8364011\n",
      "Epoch = 0350 , cost = 0.143576041 , W =  0.10389366 , b =  1.8358791\n",
      "Epoch = 0350 , cost = 0.143737629 , W =  0.102187455 , b =  1.8354697\n",
      "Epoch = 0350 , cost = 0.143493086 , W =  0.10524333 , b =  1.8357822\n",
      "Epoch = 0350 , cost = 0.143495589 , W =  0.1056419 , b =  1.8358467\n",
      "Epoch = 0350 , cost = 0.143495306 , W =  0.10516119 , b =  1.8357834\n",
      "Epoch = 0350 , cost = 0.143491343 , W =  0.10408704 , b =  1.8352877\n",
      "Epoch = 0350 , cost = 0.143452629 , W =  0.1051588 , b =  1.8354399\n",
      "Epoch = 0350 , cost = 0.143621683 , W =  0.10829956 , b =  1.835731\n",
      "Epoch = 0350 , cost = 0.143423170 , W =  0.105920814 , b =  1.8352833\n",
      "Epoch = 0350 , cost = 0.143468753 , W =  0.10696357 , b =  1.8354137\n",
      "Epoch = 0350 , cost = 0.143463850 , W =  0.10689643 , b =  1.8354018\n",
      "Epoch = 0350 , cost = 0.143511191 , W =  0.10751626 , b =  1.8354686\n",
      "Epoch = 0350 , cost = 0.143381253 , W =  0.105932035 , b =  1.8349576\n"
     ]
    },
    {
     "name": "stdout",
     "output_type": "stream",
     "text": [
      "Epoch = 0400 , cost = 0.135863453 , W =  0.1134332 , b =  1.7744179\n",
      "Epoch = 0400 , cost = 0.135879859 , W =  0.11469231 , b =  1.7747041\n",
      "Epoch = 0400 , cost = 0.135866240 , W =  0.113671534 , b =  1.7745185\n",
      "Epoch = 0400 , cost = 0.135982737 , W =  0.11624796 , b =  1.7749025\n",
      "Epoch = 0400 , cost = 0.135907739 , W =  0.11263417 , b =  1.774381\n",
      "Epoch = 0400 , cost = 0.136057347 , W =  0.11098942 , b =  1.7739865\n",
      "Epoch = 0400 , cost = 0.135832548 , W =  0.113903835 , b =  1.7742845\n",
      "Epoch = 0400 , cost = 0.135835215 , W =  0.11433135 , b =  1.7743536\n",
      "Epoch = 0400 , cost = 0.135834724 , W =  0.11383073 , b =  1.7742877\n",
      "Epoch = 0400 , cost = 0.135832220 , W =  0.11281102 , b =  1.7738172\n",
      "Epoch = 0400 , cost = 0.135796100 , W =  0.11388293 , b =  1.7739694\n",
      "Epoch = 0400 , cost = 0.135948226 , W =  0.116816305 , b =  1.7742412\n",
      "Epoch = 0400 , cost = 0.135768592 , W =  0.11448832 , b =  1.773803\n",
      "Epoch = 0400 , cost = 0.135807335 , W =  0.115497984 , b =  1.7739292\n",
      "Epoch = 0400 , cost = 0.135805771 , W =  0.11547485 , b =  1.7739252\n",
      "Epoch = 0400 , cost = 0.135842383 , W =  0.11599628 , b =  1.7739815\n",
      "Epoch = 0400 , cost = 0.135731012 , W =  0.11447624 , b =  1.7734911\n",
      "Epoch = 0450 , cost = 0.129083753 , W =  0.12154008 , b =  1.7165539\n",
      "Epoch = 0450 , cost = 0.129098549 , W =  0.12285663 , b =  1.7168531\n",
      "Epoch = 0450 , cost = 0.129084617 , W =  0.121877745 , b =  1.7166752\n",
      "Epoch = 0450 , cost = 0.129207671 , W =  0.12446514 , b =  1.7170608\n",
      "Epoch = 0450 , cost = 0.129122972 , W =  0.120854996 , b =  1.7165399\n",
      "Epoch = 0450 , cost = 0.129261717 , W =  0.11926806 , b =  1.7161591\n",
      "Epoch = 0450 , cost = 0.129054770 , W =  0.12204943 , b =  1.7164435\n",
      "Epoch = 0450 , cost = 0.129057527 , W =  0.12250416 , b =  1.7165171\n",
      "Epoch = 0450 , cost = 0.129056871 , W =  0.12198481 , b =  1.7164487\n",
      "Epoch = 0450 , cost = 0.129055604 , W =  0.1210163 , b =  1.7160017\n",
      "Epoch = 0450 , cost = 0.129021943 , W =  0.12208835 , b =  1.716154\n",
      "Epoch = 0450 , cost = 0.129158944 , W =  0.12482666 , b =  1.7164078\n",
      "Epoch = 0450 , cost = 0.128996447 , W =  0.12254641 , b =  1.7159786\n",
      "Epoch = 0450 , cost = 0.129029095 , W =  0.12352495 , b =  1.7161009\n",
      "Epoch = 0450 , cost = 0.129030228 , W =  0.1235432 , b =  1.7161041\n",
      "Epoch = 0450 , cost = 0.129057795 , W =  0.12397208 , b =  1.7161504\n",
      "Epoch = 0450 , cost = 0.128962889 , W =  0.12251241 , b =  1.7156795\n",
      "Epoch = 0500 , cost = 0.123085581 , W =  0.12916465 , b =  1.662132\n",
      "Epoch = 0500 , cost = 0.123098724 , W =  0.13053523 , b =  1.6624435\n",
      "Epoch = 0500 , cost = 0.123084575 , W =  0.12959574 , b =  1.6622727\n",
      "Epoch = 0500 , cost = 0.123213828 , W =  0.13219346 , b =  1.6626599\n",
      "Epoch = 0500 , cost = 0.123120025 , W =  0.12858675 , b =  1.6621394\n",
      "Epoch = 0500 , cost = 0.123248972 , W =  0.12705418 , b =  1.6617718\n",
      "Epoch = 0500 , cost = 0.123058125 , W =  0.12971042 , b =  1.6620435\n",
      "Epoch = 0500 , cost = 0.123060971 , W =  0.13019074 , b =  1.6621212\n",
      "Epoch = 0500 , cost = 0.123060174 , W =  0.12965378 , b =  1.6620505\n",
      "Epoch = 0500 , cost = 0.123059973 , W =  0.12873343 , b =  1.6616257\n",
      "Epoch = 0500 , cost = 0.123028547 , W =  0.12980561 , b =  1.661778\n",
      "Epoch = 0500 , cost = 0.123151965 , W =  0.13236047 , b =  1.6620147\n",
      "Epoch = 0500 , cost = 0.123005122 , W =  0.13012512 , b =  1.661594\n",
      "Epoch = 0500 , cost = 0.123032287 , W =  0.13107438 , b =  1.6617128\n",
      "Epoch = 0500 , cost = 0.123035572 , W =  0.13113156 , b =  1.6617229\n",
      "Epoch = 0500 , cost = 0.123055696 , W =  0.13147339 , b =  1.6617597\n",
      "Epoch = 0500 , cost = 0.122975305 , W =  0.13007051 , b =  1.6613072\n",
      "Epoch = 0550 , cost = 0.117778555 , W =  0.13633604 , b =  1.6109445\n",
      "Epoch = 0550 , cost = 0.117789939 , W =  0.13775744 , b =  1.6112676\n",
      "Epoch = 0550 , cost = 0.117775664 , W =  0.136855 , b =  1.6111035\n",
      "Epoch = 0550 , cost = 0.117910750 , W =  0.13946243 , b =  1.6114922\n",
      "Epoch = 0550 , cost = 0.117808439 , W =  0.13585897 , b =  1.6109722\n",
      "Epoch = 0550 , cost = 0.117928460 , W =  0.13437754 , b =  1.6106167\n",
      "Epoch = 0550 , cost = 0.117752157 , W =  0.13691609 , b =  1.6108763\n",
      "Epoch = 0550 , cost = 0.117755108 , W =  0.13742049 , b =  1.6109579\n",
      "Epoch = 0550 , cost = 0.117754109 , W =  0.13686696 , b =  1.6108849\n",
      "Epoch = 0550 , cost = 0.117754854 , W =  0.1359919 , b =  1.6104811\n",
      "Epoch = 0550 , cost = 0.117725566 , W =  0.1370642 , b =  1.6106334\n",
      "Epoch = 0550 , cost = 0.117836796 , W =  0.13944651 , b =  1.6108541\n",
      "Epoch = 0550 , cost = 0.117704183 , W =  0.13725339 , b =  1.6104413\n",
      "Epoch = 0550 , cost = 0.117726453 , W =  0.13817513 , b =  1.6105566\n",
      "Epoch = 0550 , cost = 0.117731400 , W =  0.13826892 , b =  1.6105732\n",
      "Epoch = 0550 , cost = 0.117745385 , W =  0.13852888 , b =  1.6106012\n",
      "Epoch = 0550 , cost = 0.117677830 , W =  0.1371794 , b =  1.6101658\n",
      "Epoch = 0600 , cost = 0.113083027 , W =  0.14308116 , b =  1.5627999\n",
      "Epoch = 0600 , cost = 0.113092653 , W =  0.14455035 , b =  1.5631338\n",
      "Epoch = 0600 , cost = 0.113078259 , W =  0.14368278 , b =  1.5629761\n",
      "Epoch = 0600 , cost = 0.113218911 , W =  0.14629933 , b =  1.563366\n",
      "Epoch = 0600 , cost = 0.113108605 , W =  0.14269891 , b =  1.5628465\n",
      "Epoch = 0600 , cost = 0.113220543 , W =  0.14126557 , b =  1.5625026\n",
      "Epoch = 0600 , cost = 0.113057420 , W =  0.14369342 , b =  1.5627509\n",
      "Epoch = 0600 , cost = 0.113060459 , W =  0.14422047 , b =  1.5628362\n",
      "Epoch = 0600 , cost = 0.113059282 , W =  0.14365135 , b =  1.5627612\n",
      "Epoch = 0600 , cost = 0.113060810 , W =  0.1428189 , b =  1.5623771\n",
      "Epoch = 0600 , cost = 0.113033548 , W =  0.14389132 , b =  1.5625293\n",
      "Epoch = 0600 , cost = 0.113133796 , W =  0.14611134 , b =  1.5627351\n",
      "Epoch = 0600 , cost = 0.113014154 , W =  0.14395793 , b =  1.5623298\n",
      "Epoch = 0600 , cost = 0.113032065 , W =  0.14485377 , b =  1.5624418\n",
      "Epoch = 0600 , cost = 0.113038301 , W =  0.144982 , b =  1.5624645\n",
      "Epoch = 0600 , cost = 0.113047272 , W =  0.14516495 , b =  1.5624843\n",
      "Epoch = 0600 , cost = 0.112991109 , W =  0.14386569 , b =  1.5620651\n",
      "Epoch = 0650 , cost = 0.108929187 , W =  0.14942434 , b =  1.5175248\n",
      "Epoch = 0650 , cost = 0.108937040 , W =  0.15093848 , b =  1.517869\n",
      "Epoch = 0650 , cost = 0.108922608 , W =  0.15010367 , b =  1.5177172\n",
      "Epoch = 0650 , cost = 0.109068535 , W =  0.15272881 , b =  1.5181085\n",
      "Epoch = 0650 , cost = 0.108950675 , W =  0.14913125 , b =  1.5175893\n",
      "Epoch = 0650 , cost = 0.109055273 , W =  0.14774314 , b =  1.5172563\n",
      "Epoch = 0650 , cost = 0.108904064 , W =  0.15006688 , b =  1.5174938\n",
      "Epoch = 0650 , cost = 0.108907171 , W =  0.15061523 , b =  1.5175825\n",
      "Epoch = 0650 , cost = 0.108905859 , W =  0.15003146 , b =  1.5175056\n",
      "Epoch = 0650 , cost = 0.108907998 , W =  0.14923908 , b =  1.51714\n",
      "Epoch = 0650 , cost = 0.108882636 , W =  0.1503116 , b =  1.5172924\n",
      "Epoch = 0650 , cost = 0.108973071 , W =  0.152379 , b =  1.517484\n",
      "Epoch = 0650 , cost = 0.108865261 , W =  0.15026295 , b =  1.5170857\n",
      "Epoch = 0650 , cost = 0.108879276 , W =  0.15113445 , b =  1.5171946\n",
      "Epoch = 0650 , cost = 0.108886428 , W =  0.15129505 , b =  1.517223\n",
      "Epoch = 0650 , cost = 0.108891338 , W =  0.15140559 , b =  1.5172349\n",
      "Epoch = 0650 , cost = 0.108845249 , W =  0.15015356 , b =  1.516831\n",
      "Epoch = 0700 , cost = 0.105253980 , W =  0.15539022 , b =  1.4749423\n",
      "Epoch = 0700 , cost = 0.105260007 , W =  0.15694663 , b =  1.475296\n",
      "Epoch = 0700 , cost = 0.105245605 , W =  0.15614265 , b =  1.4751499\n",
      "Epoch = 0700 , cost = 0.105396464 , W =  0.15877587 , b =  1.4755423\n",
      "Epoch = 0700 , cost = 0.105271593 , W =  0.15518099 , b =  1.4750235\n",
      "Epoch = 0700 , cost = 0.105369478 , W =  0.15383542 , b =  1.4747007\n",
      "Epoch = 0700 , cost = 0.105229087 , W =  0.15606125 , b =  1.4749283\n",
      "Epoch = 0700 , cost = 0.105232276 , W =  0.15662964 , b =  1.4750202\n",
      "Epoch = 0700 , cost = 0.105230771 , W =  0.15603209 , b =  1.4749415\n",
      "Epoch = 0700 , cost = 0.105233490 , W =  0.15527739 , b =  1.4745932\n",
      "Epoch = 0700 , cost = 0.105209894 , W =  0.15635002 , b =  1.4747455\n",
      "Epoch = 0700 , cost = 0.105291441 , W =  0.15827388 , b =  1.4749238\n",
      "Epoch = 0700 , cost = 0.105194516 , W =  0.15619296 , b =  1.4745321\n",
      "Epoch = 0700 , cost = 0.105205007 , W =  0.15704155 , b =  1.4746382\n",
      "Epoch = 0700 , cost = 0.105212785 , W =  0.15723261 , b =  1.474672\n",
      "Epoch = 0700 , cost = 0.105214469 , W =  0.15727505 , b =  1.4746765\n",
      "Epoch = 0700 , cost = 0.105177313 , W =  0.15606746 , b =  1.4742869\n",
      "Epoch = 0750 , cost = 0.102002144 , W =  0.16100137 , b =  1.4348916\n",
      "Epoch = 0750 , cost = 0.102006376 , W =  0.16259754 , b =  1.4352543\n",
      "Epoch = 0750 , cost = 0.101992019 , W =  0.16182256 , b =  1.4351134\n",
      "Epoch = 0750 , cost = 0.102147587 , W =  0.16446337 , b =  1.4355069\n",
      "Epoch = 0750 , cost = 0.102016054 , W =  0.16087103 , b =  1.4349886\n",
      "Epoch = 0750 , cost = 0.102107853 , W =  0.15956546 , b =  1.4346753\n",
      "Epoch = 0750 , cost = 0.101977326 , W =  0.1616992 , b =  1.4348935\n",
      "Epoch = 0750 , cost = 0.101980574 , W =  0.16228643 , b =  1.4349885\n",
      "Epoch = 0750 , cost = 0.101978883 , W =  0.16167592 , b =  1.434908\n",
      "Epoch = 0750 , cost = 0.101982065 , W =  0.16095665 , b =  1.4345762\n",
      "Epoch = 0750 , cost = 0.101960167 , W =  0.16202939 , b =  1.4347285\n",
      "Epoch = 0750 , cost = 0.102033719 , W =  0.16381823 , b =  1.4348943\n",
      "Epoch = 0750 , cost = 0.101946689 , W =  0.16177034 , b =  1.4345089\n",
      "Epoch = 0750 , cost = 0.101954050 , W =  0.16259739 , b =  1.4346124\n",
      "Epoch = 0750 , cost = 0.101962209 , W =  0.1628171 , b =  1.4346513\n",
      "Epoch = 0750 , cost = 0.101961412 , W =  0.16279548 , b =  1.4346489\n",
      "Epoch = 0750 , cost = 0.101932190 , W =  0.16162968 , b =  1.4342728\n"
     ]
    },
    {
     "name": "stdout",
     "output_type": "stream",
     "text": [
      "Epoch = 0800 , cost = 0.099124834 , W =  0.16627905 , b =  1.3972212\n",
      "Epoch = 0800 , cost = 0.099127263 , W =  0.16791262 , b =  1.3975924\n",
      "Epoch = 0800 , cost = 0.099112988 , W =  0.1671649 , b =  1.3974565\n",
      "Epoch = 0800 , cost = 0.099272996 , W =  0.16981286 , b =  1.3978511\n",
      "Epoch = 0800 , cost = 0.099135257 , W =  0.1662229 , b =  1.397333\n",
      "Epoch = 0800 , cost = 0.099221505 , W =  0.16495498 , b =  1.3970288\n",
      "Epoch = 0800 , cost = 0.099099860 , W =  0.1670021 , b =  1.3972381\n",
      "Epoch = 0800 , cost = 0.099103168 , W =  0.16760704 , b =  1.397336\n",
      "Epoch = 0800 , cost = 0.099101342 , W =  0.16698433 , b =  1.397254\n",
      "Epoch = 0800 , cost = 0.099104904 , W =  0.1662984 , b =  1.3969375\n",
      "Epoch = 0800 , cost = 0.099084593 , W =  0.16737123 , b =  1.3970898\n",
      "Epoch = 0800 , cost = 0.099150911 , W =  0.1690331 , b =  1.3972439\n",
      "Epoch = 0800 , cost = 0.099072978 , W =  0.1670163 , b =  1.3968643\n",
      "Epoch = 0800 , cost = 0.099077508 , W =  0.16782309 , b =  1.3969651\n",
      "Epoch = 0800 , cost = 0.099085838 , W =  0.16806975 , b =  1.3970088\n",
      "Epoch = 0800 , cost = 0.099083200 , W =  0.16798787 , b =  1.397\n",
      "Epoch = 0800 , cost = 0.099060968 , W =  0.16686136 , b =  1.3966366\n",
      "Epoch = 0850 , cost = 0.096578948 , W =  0.1712428 , b =  1.3617915\n",
      "Epoch = 0850 , cost = 0.096579663 , W =  0.17291154 , b =  1.3621707\n",
      "Epoch = 0850 , cost = 0.096565485 , W =  0.17218947 , b =  1.3620394\n",
      "Epoch = 0850 , cost = 0.096729688 , W =  0.17484415 , b =  1.3624351\n",
      "Epoch = 0850 , cost = 0.096586116 , W =  0.17125642 , b =  1.3619174\n",
      "Epoch = 0850 , cost = 0.096667282 , W =  0.17002389 , b =  1.3616216\n",
      "Epoch = 0850 , cost = 0.096553750 , W =  0.17198955 , b =  1.3618226\n",
      "Epoch = 0850 , cost = 0.096557118 , W =  0.17261116 , b =  1.3619231\n",
      "Epoch = 0850 , cost = 0.096555121 , W =  0.17197698 , b =  1.3618395\n",
      "Epoch = 0850 , cost = 0.096558973 , W =  0.1713224 , b =  1.3615375\n",
      "Epoch = 0850 , cost = 0.096540153 , W =  0.17239532 , b =  1.3616898\n",
      "Epoch = 0850 , cost = 0.096600004 , W =  0.17393775 , b =  1.3618327\n",
      "Epoch = 0850 , cost = 0.096530378 , W =  0.17195018 , b =  1.3614587\n",
      "Epoch = 0850 , cost = 0.096532375 , W =  0.17273791 , b =  1.3615571\n",
      "Epoch = 0850 , cost = 0.096540704 , W =  0.17300992 , b =  1.3616053\n",
      "Epoch = 0850 , cost = 0.096536718 , W =  0.17287137 , b =  1.3615904\n",
      "Epoch = 0850 , cost = 0.096520707 , W =  0.17178182 , b =  1.361239\n",
      "Epoch = 0900 , cost = 0.094326288 , W =  0.17591141 , b =  1.3284681\n",
      "Epoch = 0900 , cost = 0.094325274 , W =  0.17761323 , b =  1.3288549\n",
      "Epoch = 0900 , cost = 0.094311208 , W =  0.17691529 , b =  1.328728\n",
      "Epoch = 0900 , cost = 0.094479375 , W =  0.17957628 , b =  1.3291246\n",
      "Epoch = 0900 , cost = 0.094330303 , W =  0.17599066 , b =  1.3286072\n",
      "Epoch = 0900 , cost = 0.094406858 , W =  0.17479141 , b =  1.3283194\n",
      "Epoch = 0900 , cost = 0.094300695 , W =  0.17668046 , b =  1.3285125\n",
      "Epoch = 0900 , cost = 0.094304122 , W =  0.17731775 , b =  1.3286157\n",
      "Epoch = 0900 , cost = 0.094302006 , W =  0.17667279 , b =  1.3285307\n",
      "Epoch = 0900 , cost = 0.094306082 , W =  0.1760477 , b =  1.3282422\n",
      "Epoch = 0900 , cost = 0.094288670 , W =  0.17712069 , b =  1.3283945\n",
      "Epoch = 0900 , cost = 0.094342656 , W =  0.17855078 , b =  1.3285271\n",
      "Epoch = 0900 , cost = 0.094280668 , W =  0.1765907 , b =  1.3281581\n",
      "Epoch = 0900 , cost = 0.094280355 , W =  0.1773605 , b =  1.3282545\n",
      "Epoch = 0900 , cost = 0.094288535 , W =  0.17765634 , b =  1.3283068\n",
      "Epoch = 0900 , cost = 0.094283648 , W =  0.1774645 , b =  1.328286\n",
      "Epoch = 0900 , cost = 0.094273135 , W =  0.17640972 , b =  1.3279458\n",
      "Epoch = 0950 , cost = 0.092333019 , W =  0.18030247 , b =  1.2971263\n",
      "Epoch = 0950 , cost = 0.092330329 , W =  0.1820354 , b =  1.2975202\n",
      "Epoch = 0950 , cost = 0.092316404 , W =  0.18136014 , b =  1.2973974\n",
      "Epoch = 0950 , cost = 0.092488326 , W =  0.18402708 , b =  1.2977948\n",
      "Epoch = 0950 , cost = 0.092334062 , W =  0.18044344 , b =  1.2972777\n",
      "Epoch = 0950 , cost = 0.092406429 , W =  0.1792755 , b =  1.2969974\n",
      "Epoch = 0950 , cost = 0.092306986 , W =  0.18109249 , b =  1.2971833\n",
      "Epoch = 0950 , cost = 0.092310458 , W =  0.18174452 , b =  1.2972888\n",
      "Epoch = 0950 , cost = 0.092308186 , W =  0.18108942 , b =  1.2972025\n",
      "Epoch = 0950 , cost = 0.092312470 , W =  0.18049206 , b =  1.2969269\n",
      "Epoch = 0950 , cost = 0.092296347 , W =  0.18156512 , b =  1.2970792\n",
      "Epoch = 0950 , cost = 0.092345037 , W =  0.18288957 , b =  1.297202\n",
      "Epoch = 0950 , cost = 0.092290059 , W =  0.18095534 , b =  1.2968379\n",
      "Epoch = 0950 , cost = 0.092287712 , W =  0.18170829 , b =  1.2969321\n",
      "Epoch = 0950 , cost = 0.092295624 , W =  0.18202654 , b =  1.2969884\n",
      "Epoch = 0950 , cost = 0.092290230 , W =  0.18178457 , b =  1.2969623\n",
      "Epoch = 0950 , cost = 0.092284597 , W =  0.1807625 , b =  1.2966325\n",
      "Epoch = 1000 , cost = 0.090569258 , W =  0.18443245 , b =  1.2676479\n",
      "Epoch = 1000 , cost = 0.090564929 , W =  0.18619464 , b =  1.2680484\n",
      "Epoch = 1000 , cost = 0.090551138 , W =  0.18554074 , b =  1.2679296\n",
      "Epoch = 1000 , cost = 0.090726592 , W =  0.18821326 , b =  1.2683278\n",
      "Epoch = 1000 , cost = 0.090567507 , W =  0.18463148 , b =  1.267811\n",
      "Epoch = 1000 , cost = 0.090635970 , W =  0.18349299 , b =  1.2675378\n",
      "Epoch = 1000 , cost = 0.090542689 , W =  0.18524219 , b =  1.2677166\n",
      "Epoch = 1000 , cost = 0.090546191 , W =  0.1859081 , b =  1.2678244\n",
      "Epoch = 1000 , cost = 0.090543799 , W =  0.18524344 , b =  1.2677368\n",
      "Epoch = 1000 , cost = 0.090548210 , W =  0.18467218 , b =  1.2674732\n",
      "Epoch = 1000 , cost = 0.090533331 , W =  0.18574531 , b =  1.2676256\n",
      "Epoch = 1000 , cost = 0.090577215 , W =  0.18697038 , b =  1.267739\n",
      "Epoch = 1000 , cost = 0.090528674 , W =  0.18506047 , b =  1.2673795\n",
      "Epoch = 1000 , cost = 0.090524510 , W =  0.18579757 , b =  1.2674717\n",
      "Epoch = 1000 , cost = 0.090532027 , W =  0.1861369 , b =  1.2675316\n",
      "Epoch = 1000 , cost = 0.090526447 , W =  0.18584779 , b =  1.2675004\n",
      "Epoch = 1000 , cost = 0.090525128 , W =  0.18485646 , b =  1.2671806\n",
      "최적화 종료\n",
      "T cost =  0.09052513 , W =  0.18485646\n"
     ]
    },
    {
     "data": {
      "image/png": "[encoded data removed]",
      "text/plain": [
       "<Figure size 432x288 with 1 Axes>"
      ]
     },
     "metadata": {
      "needs_background": "light"
     },
     "output_type": "display_data"
    }
   ],
   "source": [
    "with tf.Session() as sess:\n",
    "    sess.run(init)\n",
    "    for epoch in range(training_epochs):\n",
    "        for (x,y) in zip(train_x, train_y):\n",
    "            sess.run(optimizer, feed_dict={X:x,Y:y})\n",
    "            if(epoch+1)%display_step ==0:\n",
    "                c = sess.run(cost, feed_dict={X:train_x, Y:train_y})\n",
    "                print('Epoch = %04d'%(epoch+1), ', cost = {:.9f}'.format(c), ', W = ', sess.run(W), ', b = ', sess.run(b))\n",
    "    print('최적화 종료')\n",
    "    training_cost = sess.run(cost, feed_dict={X:train_x, Y:train_y})\n",
    "    print('T cost = ', training_cost, ', W = ', sess.run(W))\n",
    "    plt.plot(train_x, train_y, 'ro', label='Original data')\n",
    "    plt.plot(train_x, sess.run(W)*train_x + sess.run(b), label='Fitted Line')\n",
    "    plt.legend()\n",
    "    plt.show()"
   ]
  },
  {
   "cell_type": "code",
   "execution_count": null,
   "metadata": {},
   "outputs": [],
   "source": [
    "#model의 속을 들여다 볼 수 있고 진행과정을 알 수 있다."
   ]
  }
 ],
 "metadata": {
  "kernelspec": {
   "display_name": "Python 3",
   "language": "python",
   "name": "python3"
  },
  "language_info": {
   "codemirror_mode": {
    "name": "ipython",
    "version": 3
   },
   "file_extension": ".py",
   "mimetype": "text/x-python",
   "name": "python",
   "nbconvert_exporter": "python",
   "pygments_lexer": "ipython3",
   "version": "3.7.6"
  }
 },
 "nbformat": 4,
 "nbformat_minor": 4
}
