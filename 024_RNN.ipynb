{
 "cells": [
  {
   "cell_type": "code",
   "execution_count": 2,
   "metadata": {},
   "outputs": [],
   "source": [
    "import os\n",
    "import numpy as np\n",
    "import tensorflow as tf\n",
    "def reset_graph(seed=42):\n",
    "    tf.reset_default_graph()\n",
    "    tf.set_random_seed(seed)\n",
    "    np.random.seed(seed)\n",
    "import matplotlib.pyplot as plt\n",
    "import seaborn as sns\n",
    "sns.set()"
   ]
  },
  {
   "cell_type": "code",
   "execution_count": 3,
   "metadata": {},
   "outputs": [
    {
     "name": "stdout",
     "output_type": "stream",
     "text": [
      "Y0_val:(4, 5)\n",
      "[[-0.0664006   0.9625767   0.68105793  0.7091854  -0.898216  ]\n",
      " [ 0.9977755  -0.71978897 -0.9965761   0.9673924  -0.9998972 ]\n",
      " [ 0.99999774 -0.99898803 -0.9999989   0.9967762  -0.9999999 ]\n",
      " [ 1.         -1.         -1.         -0.99818915  0.9995087 ]]\n",
      "Y1_val:(4, 5)\n",
      "[[ 1.         -1.         -1.          0.40200275 -0.9999998 ]\n",
      " [ 0.99715763 -0.16742194 -0.81356543 -0.6802668  -0.9999393 ]\n",
      " [ 0.9999983  -0.9999994  -0.9999975  -0.8594331  -0.9999881 ]\n",
      " [ 0.99928284 -0.99999803 -0.9999058   0.9857963  -0.92205757]]\n"
     ]
    }
   ],
   "source": [
    "reset_graph()\n",
    "#셀(뉴런지정) -> step수만큼 지정된다.\n",
    "n_inputs=3 #하나의 셀로 들어간다.\n",
    "n_neurons=5 #셀의 뉴런이 5개(셀을 지정할 떄는 뉴런수가 지정되어야한다.)\n",
    "x0=tf.placeholder(tf.float32,[None, n_inputs]) #4*3\n",
    "x1=tf.placeholder(tf.float32,[None, n_inputs]) #4*3\n",
    "\n",
    "#두개의 가중치\n",
    "Wx=tf.Variable(tf.random_normal(shape=[n_inputs, n_neurons], dtype=tf.float32)) #새로들어온 가중치\n",
    "Wy=tf.Variable(tf.random_normal(shape=[n_neurons, n_neurons], dtype=tf.float32)) #앞의 아웃풋으로 생성된 가중치\n",
    "b=tf.Variable(tf.zeros([1, n_neurons], dtype=tf.float32)) #나가는 차수와 일치해야 한다.(뉴런수와 일치)\n",
    "\n",
    "#RNN에서는 tanh(activation 많이 사용)\n",
    "Y0=tf.tanh(tf.matmul(x0,Wx)+b) #4*3 3*5 -> 4*5\n",
    "Y1=tf.tanh(tf.matmul(Y0,Wy)+tf.matmul(x1,Wx)+b) # (4*5 5*5)=4*5 + (4*3 3*5)=4*5 -> 4*5 + 1*5 -> 4*5\n",
    "#앞의 가중치에 영향을 받고있다.(y1)\n",
    "#두번째 셀을 계산 할때는 이전셀의 영향을 받는다.\n",
    "\n",
    "x0_batch=np.array([[0,1,2],[3,4,5],[6,7,8],[9,0,1]]) #4*3\n",
    "x1_batch=np.array([[9,8,7],[3,4,5],[6,5,4],[3,2,1]]) #4*3\n",
    "\n",
    "with tf.Session() as sess:\n",
    "    tf.global_variables_initializer().run()\n",
    "    Y0_val, Y1_val = sess.run([Y0,Y1], feed_dict={x0:x0_batch,x1:x1_batch})\n",
    "print('Y0_val:{}\\n{}'.format(Y0_val.shape, Y0_val))\n",
    "print('Y1_val:{}\\n{}'.format(Y1_val.shape, Y1_val))"
   ]
  },
  {
   "cell_type": "code",
   "execution_count": 4,
   "metadata": {},
   "outputs": [
    {
     "name": "stdout",
     "output_type": "stream",
     "text": [
      "WARNING:tensorflow:From <ipython-input-4-477c3ffbc576>:8: BasicRNNCell.__init__ (from tensorflow.python.ops.rnn_cell_impl) is deprecated and will be removed in a future version.\n",
      "Instructions for updating:\n",
      "This class is equivalent as tf.keras.layers.SimpleRNNCell, and will be replaced by that in Tensorflow 2.0.\n",
      "WARNING:tensorflow:From <ipython-input-4-477c3ffbc576>:9: static_rnn (from tensorflow.python.ops.rnn) is deprecated and will be removed in a future version.\n",
      "Instructions for updating:\n",
      "Please use `keras.layers.RNN(cell, unroll=True)`, which is equivalent to this API\n",
      "WARNING:tensorflow:From C:\\ProgramData\\Anaconda3\\lib\\site-packages\\tensorflow_core\\python\\ops\\rnn_cell_impl.py:456: Layer.add_variable (from tensorflow.python.keras.engine.base_layer) is deprecated and will be removed in a future version.\n",
      "Instructions for updating:\n",
      "Please use `layer.add_weight` method instead.\n",
      "WARNING:tensorflow:From C:\\ProgramData\\Anaconda3\\lib\\site-packages\\tensorflow_core\\python\\ops\\rnn_cell_impl.py:460: calling Zeros.__init__ (from tensorflow.python.ops.init_ops) with dtype is deprecated and will be removed in a future version.\n",
      "Instructions for updating:\n",
      "Call initializer instance with the dtype argument instead of passing it to the constructor\n",
      "Y0_val : (4, 5)\n",
      "[[ 0.30741334 -0.32884315 -0.6542847  -0.9385059   0.52089024]\n",
      " [ 0.99122757 -0.9542541  -0.7518079  -0.9995208   0.9820235 ]\n",
      " [ 0.9999268  -0.99783254 -0.8247353  -0.9999963   0.99947774]\n",
      " [ 0.996771   -0.68750614  0.8419969   0.9303911   0.8120684 ]]\n",
      "Y1_val : (4, 5)\n",
      "[[ 0.99998885 -0.99976057 -0.06679279 -0.9999803   0.99982214]\n",
      " [ 0.95896024 -0.98513234 -0.8802321  -0.99987715  0.97851926]\n",
      " [ 0.998624   -0.99715203 -0.03308626 -0.9991566   0.9932902 ]\n",
      " [ 0.99681675 -0.9598194   0.39660627 -0.8307606   0.79671973]]\n"
     ]
    }
   ],
   "source": [
    "#RNN\n",
    "reset_graph() #커널 재실행\n",
    "n_inputs = 3\n",
    "n_neurons = 5\n",
    "x0 = tf.placeholder(tf.float32, [None, n_inputs])\n",
    "x1 = tf.placeholder(tf.float32, [None, n_inputs])\n",
    "\n",
    "#입력데이터 4*3, 출력데이터 4*5(2개=셀수를 의미한다., 5=뉴런수)\n",
    "#입력데이터 2*4*3 출력데이터 2*4*5 (입력데이터=2개, 셀수=4개, step수=3개, 뉴런수=5개)\n",
    "#가중치 3*5의 가중치\n",
    "#하나의 셀은 입력이3개 출력이 5개 총 4개의 셀이 존재\n",
    "basic_cell = tf.nn.rnn_cell.BasicRNNCell(num_units=n_neurons, reuse=True) #기존의 셀을 지속적으로 사용하고자 할때 셀에 reuse=True 입력\n",
    "output_seqs, states = tf.nn.static_rnn(cell=basic_cell, inputs=[x0,x1], dtype=tf.float32) #아웃풋과 스테이트로 return된다.\n",
    "Y0,Y1 = output_seqs\n",
    "with tf.Session() as sess:\n",
    "    tf.global_variables_initializer().run()\n",
    "    Y0_val, Y1_val = sess.run([Y0,Y1],feed_dict={x0:x0_batch, x1:x1_batch})\n",
    "print('Y0_val : {}\\n{}'.format(Y0_val.shape, Y0_val))\n",
    "print('Y1_val : {}\\n{}'.format(Y1_val.shape, Y1_val)) #이전데이터에 영향을 받은 이후데이터"
   ]
  },
  {
   "cell_type": "code",
   "execution_count": 19,
   "metadata": {},
   "outputs": [
    {
     "name": "stdout",
     "output_type": "stream",
     "text": [
      "outputs_val:(4, 2, 5)\n",
      "[[[ 0.4448051   0.5314507  -0.6511994   0.76431936 -0.6179447 ]\n",
      "  [ 0.91747165 -0.9646751   0.99996394  0.9969947  -0.9995878 ]]\n",
      "\n",
      " [[ 0.78555936 -0.04964171  0.5736833   0.9923836  -0.9838792 ]\n",
      "  [-0.47700563  0.11303946 -0.2030838  -0.67330927 -0.1867441 ]]\n",
      "\n",
      " [[ 0.92764693 -0.59896386  0.9694679   0.99978125 -0.9994409 ]\n",
      "  [-0.15722841 -0.95242536  0.9972465   0.9471439  -0.9929556 ]]\n",
      "\n",
      " [[ 0.27442402 -0.9999334   0.99985826  0.49196172 -0.9598539 ]\n",
      "  [-0.705385   -0.88927376  0.9683704   0.56247634 -0.7331893 ]]]\n"
     ]
    }
   ],
   "source": [
    "reset_graph()\n",
    "n_steps = 2\n",
    "n_inputs = 3\n",
    "n_neurons = 5\n",
    "\n",
    "x = tf.placeholder(tf.float32, [None, n_steps, n_inputs])\n",
    "x_seqs = tf.unstack(tf.transpose(x,perm=[1,0,2])) #2*4*5\n",
    "seq_length = tf.placeholder(tf.int32, [None]) # 시퀀스 길이를 넣어줄 placeholder\n",
    "basic_cell = tf.nn.rnn_cell.BasicRNNCell(num_units=n_neurons) #x_seqs로 만들어진 데이터, 셀step4개\n",
    "#셀이 만들어진 갯수대로 다음셀에 영향을 미쳐서 계산된다.\n",
    "output_seqs, states = tf.nn.static_rnn(basic_cell, x_seqs, dtype=tf.float32) #x_seqs = 2*4*5\n",
    "\n",
    "outputs = tf.transpose(tf.stack(output_seqs),perm=[1,0,2]) #4*2*5\n",
    "\n",
    "#입력데이터 4*2*3, 뉴런수 5개, 스텝수 2개, 미니배치 4개(한번의 연산에 사용된 데이터의 갯수)\n",
    "#입력데이터 (미니배치size*step수(셀수)*input data)\n",
    "#출력데이터 (미니배치size*step수(셀수)*뉴런수)\n",
    "X_batch = np.array([ # t = 0 t = 1 \n",
    "    [[0, 1, 2], [9, 8, 7]], # 샘플 1 \n",
    "    [[3, 4, 5], [0, 0, 0]], # 샘플 2 (0 벡터로 패딩) \n",
    "    [[6, 7, 8], [6, 5, 4]], # 샘플 3 \n",
    "    [[9, 0, 1], [3, 2, 1]], # 샘플 4 \n",
    "])\n",
    "\n",
    "with tf.Session() as sess:\n",
    "    tf.global_variables_initializer().run()\n",
    "    outputs_val = outputs.eval(feed_dict={x:X_batch})\n",
    "    \n",
    "print('outputs_val:{}\\n{}'.format(outputs_val.shape, outputs_val))\n",
    "#출력데이터 4*2*5"
   ]
  },
  {
   "cell_type": "code",
   "execution_count": null,
   "metadata": {},
   "outputs": [],
   "source": []
  },
  {
   "cell_type": "code",
   "execution_count": 61,
   "metadata": {},
   "outputs": [],
   "source": [
    "#mnist 를 RNN으로 구현\n",
    "reset_graph()\n",
    "n_steps=28 #셀의 갯수\n",
    "n_inputs=28 #input 수\n",
    "n_neurons=150 #셀당 출력되는 데이터 수 \n",
    "n_outputs=10 #FFNN을 통과하고 마지막 클래수 수"
   ]
  },
  {
   "cell_type": "code",
   "execution_count": 62,
   "metadata": {},
   "outputs": [],
   "source": [
    "(train_x, train_y), (test_x, test_y) = tf.keras.datasets.mnist.load_data()"
   ]
  },
  {
   "cell_type": "code",
   "execution_count": 63,
   "metadata": {},
   "outputs": [
    {
     "name": "stdout",
     "output_type": "stream",
     "text": [
      "train_x.shape :  (55000, 784)\n",
      "test_x.shape :  (10000, 28, 28)\n",
      "valid_x.shape : (5000, 28, 28)\n"
     ]
    }
   ],
   "source": [
    "#train 55000 test 10000\n",
    "#keras에 있는놈은 이미지로 들어오기 때문에 784형태로 바꿔준다.\n",
    "train_x = train_x.astype(np.float32).reshape(-1,28*28)/255.0 #/255 -> 이미지 정규화\n",
    "test_x = test_x.astype(np.float32).reshape(-1,28*28)/255.0\n",
    "train_y = train_y.astype(np.int32) #ohefot인코딩이 안되어있다.\n",
    "test_y = test_y.astype(np.int32)\n",
    "valid_x, train_x = train_x[:5000], train_x[5000:] #validation 데이터를 주었다.\n",
    "valid_y, train_y = train_y[:5000], train_y[5000:]\n",
    "#test, valid 는 reshape해주었다. (이미지 형태로 넣기위해)\n",
    "test_x = test_x.reshape([-1, n_steps, n_inputs])\n",
    "valid_x = valid_x.reshape([-1, n_steps, n_inputs])\n",
    "\n",
    "print('train_x.shape : ', train_x.shape)\n",
    "print('test_x.shape : ', test_x.shape)\n",
    "print('valid_x.shape :', valid_x.shape)"
   ]
  },
  {
   "cell_type": "code",
   "execution_count": 43,
   "metadata": {},
   "outputs": [],
   "source": [
    "def shuffle_batch(features, labels, batch_size):\n",
    "    #feature - 입력데이터, 훈련데이터, 독립변수의 갯수\n",
    "    rnd_idx = np.random.permutation(len(features)) #permutation - 순열을 만든다.(난수를 생성해서 랜덤 인덱스를 줘라 순서를 섞는다.)\n",
    "    n_batches = len(features)//batch_size #전체데이터를 한번돌릴때 배치가 몇번 돌아야하냐(배치 실행 횟수)\n",
    "    for batch_idx in np.array_split(rnd_idx, n_batches):\n",
    "        #rnd_idx를 n_batches 만큼 split한다.\n",
    "        batch_x, batch_y = features[batch_idx], labels[batch_idx] #독립변수, 종속변수에서 뽑는다.\n",
    "        #비동기 방식으로 진행 yield(호출되면 작동하고 멈춘다.(다른요청을 기다릴때는 stop))\n",
    "        #계속 실핸되는것이 아니고 멈췄다가 다음배치를 주고 멈췄다가 주고 한다.\n",
    "        yield batch_x, batch_y"
   ]
  },
  {
   "cell_type": "code",
   "execution_count": 44,
   "metadata": {},
   "outputs": [],
   "source": [
    "reset_graph()\n",
    "\n",
    "inputs = tf.placeholder(tf.float32, [None, n_steps, n_inputs]) #None 몇개가올지모른다., step-28셀수(행), input-28셀당변수수(열)\n",
    "labels = tf.placeholder(tf.int32, [None])\n",
    "\n",
    "basic_cell = tf.nn.rnn_cell.BasicRNNCell(num_units=n_neurons) #cell만들때는 기본적으로 neuron수를 넣는다.\n",
    "outputs, states = tf.nn.dynamic_rnn(basic_cell, inputs, dtype=tf.float32) #inputs = 150*28*28 을보고 망을 구성한다.(셀개수와 input수)\n",
    "#dynamicRNN 반복문을 이용해서 들어오는 것만큼 공간할당 메모리 낭비를 줄인다., 비정형 데이터를 받을 수 있다.\n",
    "#output 150*28*150, state 150*150(minibatch갯수와 뉴런의 갯수로 리턴된다.)\n",
    "logits = tf.layers.dense(states, n_outputs)#dense - fullyconnected 망\n",
    "#150*150 150*10(자동생성된 가중치) -> logits =150*10\n",
    "xentropy = tf.reduce_mean(tf.nn.sparse_softmax_cross_entropy_with_logits(labels=labels, logits=logits))#cost function\n",
    "\n",
    "learning_rate = 0.01\n",
    "n_epochs = 5\n",
    "batch_size = 150\n",
    "train_op = tf.train.AdamOptimizer(learning_rate).minimize(xentropy)\n",
    "correct = tf.nn.in_top_k(logits, labels, 1) #logits값으로 담는다.\n",
    "accuracy = tf.reduce_mean(tf.cast(correct, tf.float32)) #맞춘놈1 못맞춘놈0 으로 sccuracy계산"
   ]
  },
  {
   "cell_type": "code",
   "execution_count": 45,
   "metadata": {},
   "outputs": [
    {
     "name": "stdout",
     "output_type": "stream",
     "text": [
      "epoch : 000 acc_batch : 0.1000, acc_valid : 0.0948 loss_batch : 2.3527\n",
      "epoch : 001 acc_batch : 0.1000, acc_valid : 0.1020 loss_batch : 2.3625\n",
      "epoch : 002 acc_batch : 0.1067, acc_valid : 0.1148 loss_batch : 2.3330\n",
      "epoch : 003 acc_batch : 0.0667, acc_valid : 0.0974 loss_batch : 2.3414\n",
      "epoch : 004 acc_batch : 0.0933, acc_valid : 0.1148 loss_batch : 2.3452\n"
     ]
    }
   ],
   "source": [
    "with tf.Session() as sess:\n",
    "    tf.global_variables_initializer().run()\n",
    "    for epoch in range(n_epochs):\n",
    "        #epoch=5\n",
    "        for batch_x, batch_y in shuffle_batch(train_x, train_y, batch_size):\n",
    "            #in 뒤에 올수있는것 collecions(집단으로 데이터를 저장할 수 있는 list, dict)\n",
    "            #generator(생성자), enumerator\n",
    "            #333번 돌아감(55000/150)\n",
    "            batch_x = batch_x.reshape([-1, n_steps, n_inputs])\n",
    "            sess.run(train_op, feed_dict={inputs:batch_x, labels:batch_y})\n",
    "        acc_batch = accuracy.eval(feed_dict={inputs:batch_x, labels:batch_y}) #훈련에 참가한 데이터\n",
    "        acc_valid = accuracy.eval(feed_dict={inputs:valid_x, labels:valid_y}) #훈련에 참여하지 않은 데이터 5000개로 측정\n",
    "        #과적합 확인(규제를 준다, dropout 많은계산량 줄이고, early stoping), 과소적합(데이터더 필요, 최적화 필요)\n",
    "        loss_batch = xentropy.eval(feed_dict={inputs: batch_x, labels: batch_y})\n",
    "        print('epoch : {:03d}'.format(epoch), 'acc_batch : {:.4f}, acc_valid : {:.4f}'.format(acc_batch, acc_valid), \n",
    "              'loss_batch : {:.4f}'.format(loss_batch))"
   ]
  },
  {
   "cell_type": "code",
   "execution_count": null,
   "metadata": {},
   "outputs": [],
   "source": []
  },
  {
   "cell_type": "code",
   "execution_count": 47,
   "metadata": {},
   "outputs": [],
   "source": [
    "import matplotlib.pyplot as plt \n",
    "import numpy as np \n",
    "import tensorflow as tf\n",
    "\n",
    "t_min, t_max = 0, 30 \n",
    "resolution = 0.1\n",
    "\n",
    "def time_series(t): \n",
    "    return t * np.sin(t) / 3 + 2 * np.sin(t*5)\n",
    "\n",
    "# mini-batch function \n",
    "def next_batch(batch_size, n_steps): \n",
    "    t0 = np.random.rand(batch_size, 1) * (t_max - t_min - n_steps * resolution) \n",
    "    Ts = t0 + np.arange(0., n_steps + 1) * resolution \n",
    "    ys = time_series(Ts) \n",
    "    return ys[:, :-1].reshape(-1, n_steps, 1), ys[:, 1:].reshape(-1, n_steps, 1)"
   ]
  },
  {
   "cell_type": "code",
   "execution_count": 48,
   "metadata": {},
   "outputs": [
    {
     "data": {
      "image/png": "[encoded data removed]",
      "text/plain": [
       "<Figure size 792x288 with 2 Axes>"
      ]
     },
     "metadata": {},
     "output_type": "display_data"
    }
   ],
   "source": [
    "t = np.linspace(t_min, t_max, int((t_max - t_min) / resolution))\n",
    "\n",
    "n_steps = 20 \n",
    "t_instance = np.linspace(12.2, 12.2 + resolution * (n_steps + 1), n_steps + 1)\n",
    "\n",
    "plt.figure(figsize=(11,4)) \n",
    "plt.subplot(121) \n",
    "plt.title(\"time series (generated)\", fontsize=14) \n",
    "plt.plot(t, time_series(t), label=r\"$t . \\sin(t) / 3 + 2 . \\sin(5t)$\") \n",
    "plt.plot(t_instance[:-1], time_series(t_instance[:-1]), \"b-\", linewidth=3, label=\"training sample\") \n",
    "plt.legend(loc=\"lower left\", fontsize=14) \n",
    "plt.axis([0, 30, -17, 13]) \n",
    "plt.xlabel(\"Time\") \n",
    "plt.ylabel(\"Value\", rotation=0)\n",
    "\n",
    "plt.subplot(122) \n",
    "plt.title(\"training sample\", fontsize=14) \n",
    "plt.plot(t_instance[:-1], time_series(t_instance[:-1]), \"bo\", markersize=12, label=\"sample\") \n",
    "plt.plot(t_instance[1:], time_series(t_instance[1:]), \"w*\", markeredgewidth=0.5, markeredgecolor=\"b\", markersize=14, label=\"target\") \n",
    "plt.legend(loc=\"upper left\") \n",
    "plt.xlabel(\"Time\")\n",
    "\n",
    "plt.show()"
   ]
  },
  {
   "cell_type": "code",
   "execution_count": 51,
   "metadata": {},
   "outputs": [
    {
     "name": "stdout",
     "output_type": "stream",
     "text": [
      "step: 000, MSE: 13.9070\n",
      "step: 100, MSE: 0.5057\n",
      "step: 200, MSE: 0.2104\n",
      "step: 300, MSE: 0.1041\n",
      "step: 400, MSE: 0.0682\n",
      "step: 500, MSE: 0.0618\n",
      "y_pred:(1, 20, 1)\n",
      "[[[-3.5451064]\n",
      "  [-2.5237594]\n",
      "  [-1.1689632]\n",
      "  [ 0.546136 ]\n",
      "  [ 2.0490522]\n",
      "  [ 2.9901128]\n",
      "  [ 3.498588 ]\n",
      "  [ 3.5099547]\n",
      "  [ 2.8451753]\n",
      "  [ 2.1285563]\n",
      "  [ 1.6292835]\n",
      "  [ 1.5277606]\n",
      "  [ 1.9074755]\n",
      "  [ 2.6915088]\n",
      "  [ 3.8608828]\n",
      "  [ 5.125861 ]\n",
      "  [ 6.1394496]\n",
      "  [ 6.6800656]\n",
      "  [ 6.6261263]\n",
      "  [ 6.0294347]]]\n"
     ]
    }
   ],
   "source": [
    "reset_graph()\n",
    "\n",
    "# Layer Params\n",
    "n_steps = 20 \n",
    "n_neurons = 100 \n",
    "n_inputs = 1 \n",
    "n_outputs = 1\n",
    "\n",
    "X = tf.placeholder(tf.float32, [None, n_steps, n_inputs]) \n",
    "y = tf.placeholder(tf.float32, [None, n_steps, n_outputs])\n",
    "\n",
    "# RNN Model \n",
    "cell = tf.nn.rnn_cell.BasicRNNCell(num_units=n_neurons, activation=tf.nn.relu) \n",
    "rnn_outputs, states = tf.nn.dynamic_rnn(cell, X, dtype=tf.float32)\n",
    "\n",
    "# 하나의 출력을 위한 작업 \n",
    "stacked_rnn_outputs = tf.reshape(tensor=rnn_outputs, shape=[-1, n_neurons]) \n",
    "stacked_outputs = tf.layers.dense(stacked_rnn_outputs, n_outputs) \n",
    "predictions = tf.reshape(stacked_outputs, [-1, n_steps, n_outputs])\n",
    "\n",
    "# Train Params\n",
    "learning_rate = 0.001 \n",
    "n_iterations = 600 \n",
    "batch_size = 50\n",
    "\n",
    "# loss \n",
    "mse = tf.losses.mean_squared_error(labels=y, predictions=predictions) \n",
    "# optimizer \n",
    "train_op = tf.train.AdamOptimizer(learning_rate=learning_rate).minimize(mse)\n",
    "\n",
    "# Train \n",
    "with tf.Session() as sess: \n",
    "    tf.global_variables_initializer().run() \n",
    "    for iteration in range(n_iterations): \n",
    "        batch_x, batch_y = next_batch(batch_size, n_steps) \n",
    "        sess.run(train_op, feed_dict={X: batch_x, y: batch_y}) \n",
    "        if iteration % 100 == 0: \n",
    "            loss = mse.eval(feed_dict={X: batch_x, y: batch_y}) \n",
    "            print('step: {:03d}, MSE: {:.4f}'.format(iteration, loss))\n",
    "            \n",
    "    # 새로운 데이터 예측하기\n",
    "    X_new = time_series(np.array(t_instance[:-1].reshape(-1, n_steps, n_inputs)))\n",
    "    y_pred = sess.run(predictions, feed_dict={X: X_new})\n",
    "    \n",
    "print('y_pred:{}\\n{}'.format(y_pred.shape, y_pred))"
   ]
  },
  {
   "cell_type": "code",
   "execution_count": 52,
   "metadata": {},
   "outputs": [
    {
     "data": {
      "image/png": "[encoded data removed]",
      "text/plain": [
       "<Figure size 432x288 with 1 Axes>"
      ]
     },
     "metadata": {},
     "output_type": "display_data"
    }
   ],
   "source": [
    "plt.title(\"Testing the Model\", fontsize=14)\n",
    "plt.plot(t_instance[:-1], time_series(t_instance[:-1]), \"bo\", markersize=10, label=\"instance\")\n",
    "plt.plot(t_instance[1:], time_series(t_instance[1:]), \"w*\", markersize=10, label=\"target\", color='yellow')\n",
    "plt.plot(t_instance[1:], y_pred[0,:,0], \"r.\", markersize=10, label=\"prediction\")\n",
    "plt.legend(loc=\"upper left\")\n",
    "plt.xlabel(\"Time\")\n",
    "\n",
    "plt.show()"
   ]
  },
  {
   "cell_type": "code",
   "execution_count": null,
   "metadata": {},
   "outputs": [],
   "source": [
    "#OutputProjectionWrapper를 이용해 동일한 예제를 작성한 코드"
   ]
  },
  {
   "cell_type": "code",
   "execution_count": 53,
   "metadata": {},
   "outputs": [
    {
     "name": "stdout",
     "output_type": "stream",
     "text": [
      "WARNING:tensorflow:\n",
      "The TensorFlow contrib module will not be included in TensorFlow 2.0.\n",
      "For more information, please see:\n",
      "  * https://github.com/tensorflow/community/blob/master/rfcs/20180907-contrib-sunset.md\n",
      "  * https://github.com/tensorflow/addons\n",
      "  * https://github.com/tensorflow/io (for I/O related ops)\n",
      "If you depend on functionality not listed there, please file an issue.\n",
      "\n",
      "WARNING:tensorflow:From C:\\ProgramData\\Anaconda3\\lib\\site-packages\\tensorflow_core\\contrib\\rnn\\python\\ops\\core_rnn_cell.py:104: calling Constant.__init__ (from tensorflow.python.ops.init_ops) with dtype is deprecated and will be removed in a future version.\n",
      "Instructions for updating:\n",
      "Call initializer instance with the dtype argument instead of passing it to the constructor\n"
     ]
    }
   ],
   "source": [
    "reset_graph()\n",
    "\n",
    "# Layer Params\n",
    "n_steps = 20\n",
    "n_neurons = 100\n",
    "n_inputs = 1\n",
    "n_outputs = 1\n",
    "\n",
    "X = tf.placeholder(tf.float32, [None, n_steps, n_inputs])\n",
    "y = tf.placeholder(tf.float32, [None, n_steps, n_outputs])\n",
    "\n",
    "# RNN Model using OutputProjectionWrapper\n",
    "cell = tf.contrib.rnn.OutputProjectionWrapper(\n",
    "    tf.nn.rnn_cell.BasicRNNCell(num_units=n_neurons, activation=tf.nn.relu),\n",
    "    output_size=n_outputs)\n",
    "predictions, states = tf.nn.dynamic_rnn(cell, X, dtype=tf.float32)\n",
    "\n",
    "# Train Params \n",
    "learning_rate = 0.001\n",
    "n_iterations = 600\n",
    "batch_size = 50\n",
    "\n",
    "# loss\n",
    "mse = tf.losses.mean_squared_error(labels=y, predictions=predictions)\n",
    "# optimizer\n",
    "train_op = tf.train.AdamOptimizer(learning_rate=learning_rate).minimize(mse)"
   ]
  },
  {
   "cell_type": "code",
   "execution_count": 54,
   "metadata": {},
   "outputs": [
    {
     "name": "stdout",
     "output_type": "stream",
     "text": [
      "step: 000, MSE: 11.9673\n",
      "step: 100, MSE: 0.5228\n",
      "step: 200, MSE: 0.1500\n",
      "step: 300, MSE: 0.0751\n",
      "step: 400, MSE: 0.0618\n",
      "step: 500, MSE: 0.0615\n",
      "y_pred:(1, 20, 1)\n",
      "[[[-3.5262268]\n",
      "  [-2.4672015]\n",
      "  [-1.1419667]\n",
      "  [ 0.5639766]\n",
      "  [ 2.1380877]\n",
      "  [ 3.181482 ]\n",
      "  [ 3.4333177]\n",
      "  [ 3.2610493]\n",
      "  [ 2.8540754]\n",
      "  [ 2.2927241]\n",
      "  [ 1.7760007]\n",
      "  [ 1.4578816]\n",
      "  [ 1.7960271]\n",
      "  [ 2.6859846]\n",
      "  [ 3.8808458]\n",
      "  [ 5.125532 ]\n",
      "  [ 6.1072383]\n",
      "  [ 6.6790466]\n",
      "  [ 6.6470914]\n",
      "  [ 6.0377955]]]\n"
     ]
    }
   ],
   "source": [
    "# Train\n",
    "with tf.Session() as sess:\n",
    "    tf.global_variables_initializer().run()\n",
    "    for iteration in range(n_iterations):\n",
    "        batch_x, batch_y = next_batch(batch_size, n_steps)\n",
    "        sess.run(train_op, feed_dict={X: batch_x, y: batch_y})\n",
    "        if iteration % 100 == 0:\n",
    "            loss = mse.eval(feed_dict={X: batch_x, y: batch_y})\n",
    "            print('step: {:03d}, MSE: {:.4f}'.format(iteration, loss))\n",
    "            \n",
    "    # 새로운 데이터 예측하기\n",
    "    X_new = time_series(np.array(t_instance[:-1].reshape(-1, n_steps, n_inputs)))\n",
    "    y_pred = sess.run(predictions, feed_dict={X: X_new})\n",
    "    \n",
    "print('y_pred:{}\\n{}'.format(y_pred.shape, y_pred))"
   ]
  },
  {
   "cell_type": "code",
   "execution_count": 55,
   "metadata": {},
   "outputs": [
    {
     "data": {
      "image/png": "[encoded data removed]",
      "text/plain": [
       "<Figure size 432x288 with 1 Axes>"
      ]
     },
     "metadata": {},
     "output_type": "display_data"
    }
   ],
   "source": [
    "plt.title(\"Testing the Model\", fontsize=14)\n",
    "plt.plot(t_instance[:-1], time_series(t_instance[:-1]), \"bo\", markersize=10, label=\"instance\")\n",
    "plt.plot(t_instance[1:], time_series(t_instance[1:]), \"w*\", markersize=10, label=\"target\", color='yellow')\n",
    "plt.plot(t_instance[1:], y_pred[0,:,0], \"r.\", markersize=10, label=\"prediction\")\n",
    "plt.legend(loc=\"upper left\")\n",
    "plt.xlabel(\"Time\")\n",
    "\n",
    "plt.show()"
   ]
  },
  {
   "cell_type": "code",
   "execution_count": 56,
   "metadata": {},
   "outputs": [],
   "source": [
    "#텐서플로에서는 tf.nn.rnn_cell.MultiRNNCell을 이용해 RNN Cell을 여러층으로 쌓을 수 있는데 \n",
    "#먼저 BasicRNNCell을 이용해 여러개의 Cell을 만들고, 이것을 MultiRNNCell로 쌓아서 deep RNN을 구현할 수 있다. \n",
    "#아래의 예제는 deep RNN을 구현한 간단한 예제 코드이다."
   ]
  },
  {
   "cell_type": "code",
   "execution_count": 57,
   "metadata": {},
   "outputs": [
    {
     "name": "stdout",
     "output_type": "stream",
     "text": [
      "WARNING:tensorflow:From <ipython-input-57-008927011b9a>:14: MultiRNNCell.__init__ (from tensorflow.python.ops.rnn_cell_impl) is deprecated and will be removed in a future version.\n",
      "Instructions for updating:\n",
      "This class is equivalent as tf.keras.layers.StackedRNNCells, and will be replaced by that in Tensorflow 2.0.\n",
      "outputs_val:(2, 5, 100)\n"
     ]
    }
   ],
   "source": [
    "reset_graph()\n",
    "\n",
    "# layer params \n",
    "n_inputs = 2\n",
    "n_steps = 5\n",
    "n_neurons = 100\n",
    "n_layers = 3\n",
    "\n",
    "X = tf.placeholder(tf.float32, [None, n_steps, n_inputs])\n",
    "\n",
    "# Deep RNN\n",
    "layers = [tf.nn.rnn_cell.BasicRNNCell(num_units=n_neurons)\n",
    "          for layer in range(n_layers)]\n",
    "multi_layer_cell = tf.nn.rnn_cell.MultiRNNCell(layers)\n",
    "outputs, states = tf.nn.dynamic_rnn(multi_layer_cell, X, dtype=tf.float32)\n",
    "\n",
    "# Sample data\n",
    "batch_x = np.random.rand(2, n_steps, n_inputs)  # shape: (2, 5, 2)\n",
    "\n",
    "with tf.Session() as sess:\n",
    "    tf.global_variables_initializer().run()\n",
    "    outputs_val, states_val = sess.run([outputs, states], feed_dict={X: batch_x})\n",
    "    \n",
    "print('outputs_val:{}'.format(outputs_val.shape))"
   ]
  },
  {
   "cell_type": "code",
   "execution_count": 58,
   "metadata": {},
   "outputs": [],
   "source": [
    "reset_graph()\n",
    "\n",
    "# layer params\n",
    "n_inputs = 1\n",
    "n_outputs = 1\n",
    "n_neurons = 100\n",
    "n_layers = 3\n",
    "n_steps = 20\n",
    "\n",
    "X = tf.placeholder(tf.float32, [None, n_steps, n_inputs])\n",
    "y = tf.placeholder(tf.float32, [None, n_steps, n_outputs])\n",
    "\n",
    "# without dropout rate\n",
    "keep_prob = tf.placeholder_with_default(1.0, shape=())\n",
    "cells = [tf.nn.rnn_cell.BasicRNNCell(num_units=n_neurons)\n",
    "         for layer in range(n_layers)]\n",
    "cells_drop = [tf.nn.rnn_cell.DropoutWrapper(\n",
    "                    cell, input_keep_prob=keep_prob,\n",
    "                    state_keep_prob=keep_prob) for cell in cells]\n",
    "multi_layer_cell = tf.nn.rnn_cell.MultiRNNCell(cells_drop)\n",
    "rnn_outputs, states = tf.nn.dynamic_rnn(multi_layer_cell, X, dtype=tf.float32)\n",
    "\n",
    "# 하나의 출력을 위한 작업\n",
    "stacked_rnn_outputs = tf.reshape(rnn_outputs, [-1, n_neurons])\n",
    "stacked_outputs = tf.layers.dense(stacked_rnn_outputs, n_outputs)\n",
    "predictions = tf.reshape(stacked_outputs, [-1, n_steps, n_outputs])\n",
    "\n",
    "# loss\n",
    "mse = tf.losses.mean_squared_error(labels=y, predictions=predictions)\n",
    "\n",
    "# Train Params \n",
    "learning_rate = 0.01\n",
    "train_keep_prob = 0.3\n",
    "n_iterations = 1500\n",
    "batch_size = 50\n",
    "\n",
    "# optimizer\n",
    "train_op = tf.train.AdamOptimizer(learning_rate=learning_rate).minimize(mse)"
   ]
  },
  {
   "cell_type": "code",
   "execution_count": 59,
   "metadata": {},
   "outputs": [
    {
     "name": "stdout",
     "output_type": "stream",
     "text": [
      "step: 000, MSE: 5.0662\n",
      "step: 300, MSE: 9.1701\n",
      "step: 600, MSE: 9.9832\n",
      "step: 900, MSE: 13.0620\n",
      "step: 1200, MSE: 12.4481\n"
     ]
    }
   ],
   "source": [
    "# Train\n",
    "with tf.Session() as sess:\n",
    "    tf.global_variables_initializer().run()\n",
    "    for iteration in range(n_iterations):\n",
    "        batch_x, batch_y = next_batch(batch_size, n_steps)\n",
    "        sess.run(train_op, feed_dict={X: batch_x, y: batch_y,\n",
    "                                      keep_prob: train_keep_prob})\n",
    "        if iteration % 300 == 0:\n",
    "            loss = mse.eval(feed_dict={X: batch_x, y: batch_y})\n",
    "            print('step: {:03d}, MSE: {:.4f}'.format(iteration, loss))\n",
    "            \n",
    "    # 새로운 데이터 예측하기\n",
    "    X_new = time_series(np.array(t_instance[:-1].reshape(-1, n_steps, n_inputs)))\n",
    "    y_pred = sess.run(predictions, feed_dict={X: X_new})"
   ]
  },
  {
   "cell_type": "code",
   "execution_count": 60,
   "metadata": {},
   "outputs": [
    {
     "data": {
      "image/png": "[encoded data removed]",
      "text/plain": [
       "<Figure size 432x288 with 1 Axes>"
      ]
     },
     "metadata": {},
     "output_type": "display_data"
    }
   ],
   "source": [
    "plt.title(\"Testing the Model\", fontsize=14)\n",
    "plt.plot(t_instance[:-1], time_series(t_instance[:-1]), \"bo\", markersize=10, label=\"instance\")\n",
    "plt.plot(t_instance[1:], time_series(t_instance[1:]), \"w*\", markersize=10, label=\"target\", color='yellow')\n",
    "plt.plot(t_instance[1:], y_pred[0,:,0], \"r.\", markersize=10, label=\"prediction\")\n",
    "plt.legend(loc=\"upper left\")\n",
    "plt.xlabel(\"Time\")\n",
    "\n",
    "plt.show()"
   ]
  },
  {
   "cell_type": "code",
   "execution_count": null,
   "metadata": {},
   "outputs": [],
   "source": []
  }
 ],
 "metadata": {
  "kernelspec": {
   "display_name": "Python 3",
   "language": "python",
   "name": "python3"
  },
  "language_info": {
   "codemirror_mode": {
    "name": "ipython",
    "version": 3
   },
   "file_extension": ".py",
   "mimetype": "text/x-python",
   "name": "python",
   "nbconvert_exporter": "python",
   "pygments_lexer": "ipython3",
   "version": "3.7.6"
  }
 },
 "nbformat": 4,
 "nbformat_minor": 4
}
